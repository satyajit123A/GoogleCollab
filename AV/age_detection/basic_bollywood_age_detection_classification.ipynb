{
  "nbformat": 4,
  "nbformat_minor": 0,
  "metadata": {
    "colab": {
      "name": "Untitled0.ipynb",
      "version": "0.3.2",
      "provenance": [],
      "collapsed_sections": []
    },
    "kernelspec": {
      "name": "python3",
      "display_name": "Python 3"
    },
    "accelerator": "TPU"
  },
  "cells": [
    {
      "metadata": {
        "id": "oKt_pa3WM_YC",
        "colab_type": "code",
        "colab": {}
      },
      "cell_type": "code",
      "source": [
        "from zipfile import ZipFile\n",
        "\n",
        "with ZipFile(\"train.zip\", 'r') as zip:\n",
        "  zip.extractall()\n",
        "  \n",
        "with ZipFile(\"test.zip\", 'r') as zip:\n",
        "  zip.extractall()\n"
      ],
      "execution_count": 0,
      "outputs": []
    },
    {
      "metadata": {
        "id": "wbj6XWQZP5GC",
        "colab_type": "code",
        "colab": {
          "base_uri": "https://localhost:8080/",
          "height": 34
        },
        "outputId": "15f764de-c720-4da7-b424-afe5087cf399"
      },
      "cell_type": "code",
      "source": [
        "%pylab inline\n",
        "\n",
        "\n",
        "import os\n",
        "import random\n",
        "\n",
        "import pandas as pd\n",
        "from scipy.misc import imread\n",
        "\n",
        "import warnings\n",
        "warnings.filterwarnings(\"ignore\")\n"
      ],
      "execution_count": 1,
      "outputs": [
        {
          "output_type": "stream",
          "text": [
            "Populating the interactive namespace from numpy and matplotlib\n"
          ],
          "name": "stdout"
        }
      ]
    },
    {
      "metadata": {
        "id": "fXfusoVIQvOw",
        "colab_type": "code",
        "colab": {
          "base_uri": "https://localhost:8080/",
          "height": 195
        },
        "outputId": "65077ae4-cba4-4802-9123-f9744ab40e8a"
      },
      "cell_type": "code",
      "source": [
        "train=pd.read_csv(\"train.csv\")\n",
        "train.head()"
      ],
      "execution_count": 2,
      "outputs": [
        {
          "output_type": "execute_result",
          "data": {
            "text/html": [
              "<div>\n",
              "<style scoped>\n",
              "    .dataframe tbody tr th:only-of-type {\n",
              "        vertical-align: middle;\n",
              "    }\n",
              "\n",
              "    .dataframe tbody tr th {\n",
              "        vertical-align: top;\n",
              "    }\n",
              "\n",
              "    .dataframe thead th {\n",
              "        text-align: right;\n",
              "    }\n",
              "</style>\n",
              "<table border=\"1\" class=\"dataframe\">\n",
              "  <thead>\n",
              "    <tr style=\"text-align: right;\">\n",
              "      <th></th>\n",
              "      <th>ID</th>\n",
              "      <th>Class</th>\n",
              "    </tr>\n",
              "  </thead>\n",
              "  <tbody>\n",
              "    <tr>\n",
              "      <th>0</th>\n",
              "      <td>377.jpg</td>\n",
              "      <td>MIDDLE</td>\n",
              "    </tr>\n",
              "    <tr>\n",
              "      <th>1</th>\n",
              "      <td>17814.jpg</td>\n",
              "      <td>YOUNG</td>\n",
              "    </tr>\n",
              "    <tr>\n",
              "      <th>2</th>\n",
              "      <td>21283.jpg</td>\n",
              "      <td>MIDDLE</td>\n",
              "    </tr>\n",
              "    <tr>\n",
              "      <th>3</th>\n",
              "      <td>16496.jpg</td>\n",
              "      <td>YOUNG</td>\n",
              "    </tr>\n",
              "    <tr>\n",
              "      <th>4</th>\n",
              "      <td>4487.jpg</td>\n",
              "      <td>MIDDLE</td>\n",
              "    </tr>\n",
              "  </tbody>\n",
              "</table>\n",
              "</div>"
            ],
            "text/plain": [
              "          ID   Class\n",
              "0    377.jpg  MIDDLE\n",
              "1  17814.jpg   YOUNG\n",
              "2  21283.jpg  MIDDLE\n",
              "3  16496.jpg   YOUNG\n",
              "4   4487.jpg  MIDDLE"
            ]
          },
          "metadata": {
            "tags": []
          },
          "execution_count": 2
        }
      ]
    },
    {
      "metadata": {
        "id": "B5MY3FM0lWVa",
        "colab_type": "code",
        "colab": {
          "base_uri": "https://localhost:8080/",
          "height": 195
        },
        "outputId": "78443fdf-5502-4ae3-f514-a4c5283757be"
      },
      "cell_type": "code",
      "source": [
        "test=pd.read_csv(\"test.csv\")\n",
        "test.head()"
      ],
      "execution_count": 3,
      "outputs": [
        {
          "output_type": "execute_result",
          "data": {
            "text/html": [
              "<div>\n",
              "<style scoped>\n",
              "    .dataframe tbody tr th:only-of-type {\n",
              "        vertical-align: middle;\n",
              "    }\n",
              "\n",
              "    .dataframe tbody tr th {\n",
              "        vertical-align: top;\n",
              "    }\n",
              "\n",
              "    .dataframe thead th {\n",
              "        text-align: right;\n",
              "    }\n",
              "</style>\n",
              "<table border=\"1\" class=\"dataframe\">\n",
              "  <thead>\n",
              "    <tr style=\"text-align: right;\">\n",
              "      <th></th>\n",
              "      <th>ID</th>\n",
              "    </tr>\n",
              "  </thead>\n",
              "  <tbody>\n",
              "    <tr>\n",
              "      <th>0</th>\n",
              "      <td>25321.jpg</td>\n",
              "    </tr>\n",
              "    <tr>\n",
              "      <th>1</th>\n",
              "      <td>989.jpg</td>\n",
              "    </tr>\n",
              "    <tr>\n",
              "      <th>2</th>\n",
              "      <td>19277.jpg</td>\n",
              "    </tr>\n",
              "    <tr>\n",
              "      <th>3</th>\n",
              "      <td>13093.jpg</td>\n",
              "    </tr>\n",
              "    <tr>\n",
              "      <th>4</th>\n",
              "      <td>5367.jpg</td>\n",
              "    </tr>\n",
              "  </tbody>\n",
              "</table>\n",
              "</div>"
            ],
            "text/plain": [
              "          ID\n",
              "0  25321.jpg\n",
              "1    989.jpg\n",
              "2  19277.jpg\n",
              "3  13093.jpg\n",
              "4   5367.jpg"
            ]
          },
          "metadata": {
            "tags": []
          },
          "execution_count": 3
        }
      ]
    },
    {
      "metadata": {
        "id": "Ak39uJexTHCl",
        "colab_type": "code",
        "colab": {
          "base_uri": "https://localhost:8080/",
          "height": 840
        },
        "outputId": "9cdafa39-2e73-4d29-ed07-8ea0fc2d825c"
      },
      "cell_type": "code",
      "source": [
        "index=random.choice(train.index)\n",
        "img_name=train.ID[index]\n",
        "img=imread(os.path.join(\"Train\",img_name))\n",
        "#print(\"Age\",train.Class[index])\n",
        "img.view()"
      ],
      "execution_count": 4,
      "outputs": [
        {
          "output_type": "execute_result",
          "data": {
            "text/plain": [
              "array([[[119, 154, 192],\n",
              "        [119, 155, 191],\n",
              "        [118, 154, 190],\n",
              "        ...,\n",
              "        [ 45,  37,  52],\n",
              "        [ 45,  37,  52],\n",
              "        [ 45,  37,  52]],\n",
              "\n",
              "       [[120, 155, 193],\n",
              "        [120, 156, 192],\n",
              "        [120, 156, 192],\n",
              "        ...,\n",
              "        [ 47,  39,  54],\n",
              "        [ 47,  39,  54],\n",
              "        [ 47,  39,  54]],\n",
              "\n",
              "       [[122, 157, 195],\n",
              "        [121, 157, 193],\n",
              "        [121, 157, 193],\n",
              "        ...,\n",
              "        [ 51,  43,  58],\n",
              "        [ 51,  43,  58],\n",
              "        [ 50,  42,  57]],\n",
              "\n",
              "       ...,\n",
              "\n",
              "       [[158, 184, 211],\n",
              "        [157, 183, 210],\n",
              "        [157, 183, 210],\n",
              "        ...,\n",
              "        [170, 125, 119],\n",
              "        [170, 125, 119],\n",
              "        [170, 125, 119]],\n",
              "\n",
              "       [[157, 183, 210],\n",
              "        [156, 182, 209],\n",
              "        [156, 182, 209],\n",
              "        ...,\n",
              "        [170, 125, 119],\n",
              "        [170, 125, 119],\n",
              "        [170, 125, 119]],\n",
              "\n",
              "       [[157, 183, 210],\n",
              "        [156, 182, 209],\n",
              "        [156, 182, 209],\n",
              "        ...,\n",
              "        [170, 125, 119],\n",
              "        [170, 125, 119],\n",
              "        [170, 125, 119]]], dtype=uint8)"
            ]
          },
          "metadata": {
            "tags": []
          },
          "execution_count": 4
        }
      ]
    },
    {
      "metadata": {
        "id": "0l5WiHjaaY7f",
        "colab_type": "code",
        "colab": {
          "base_uri": "https://localhost:8080/",
          "height": 286
        },
        "outputId": "21fe6fdb-b0b5-470d-93df-4420bf21c1c9"
      },
      "cell_type": "code",
      "source": [
        "imshow(img)"
      ],
      "execution_count": 5,
      "outputs": [
        {
          "output_type": "execute_result",
          "data": {
            "text/plain": [
              "<matplotlib.image.AxesImage at 0x7fe57f7b1860>"
            ]
          },
          "metadata": {
            "tags": []
          },
          "execution_count": 5
        },
        {
          "output_type": "display_data",
          "data": {
            "image/png": "[encoded data removed]",
            "text/plain": [
              "<Figure size 432x288 with 1 Axes>"
            ]
          },
          "metadata": {
            "tags": []
          }
        }
      ]
    },
    {
      "metadata": {
        "id": "GYE2x_wxeDtE",
        "colab_type": "code",
        "colab": {}
      },
      "cell_type": "code",
      "source": [
        "from scipy.misc import imresize\n",
        "\n",
        "temp=[]\n",
        "for img_name in train.ID:\n",
        "  img_path=os.path.join(\"Train\",img_name)\n",
        "  img=imread(img_path)\n",
        "  img=imresize(img,(32,32))\n",
        "  img=img.astype(\"float32\")\n",
        "  temp.append(img)\n",
        "  \n",
        "  \n",
        "  \n",
        "train_x=np.stack(temp)\n",
        "train_x/=255\n",
        "  "
      ],
      "execution_count": 0,
      "outputs": []
    },
    {
      "metadata": {
        "id": "TK4LUQ34liKa",
        "colab_type": "code",
        "colab": {}
      },
      "cell_type": "code",
      "source": [
        "temp1=[]\n",
        "for img_name in test.ID:\n",
        "  img_path=os.path.join(\"Test\",img_name)\n",
        "  img=imread(img_path)\n",
        "  img=imresize(img,(32,32))\n",
        "  img=img.astype(\"float32\")\n",
        "  temp1.append(img)\n",
        "  \n",
        "  \n",
        "  \n",
        "test_x=np.stack(temp1)\n",
        "test_x/=255"
      ],
      "execution_count": 0,
      "outputs": []
    },
    {
      "metadata": {
        "id": "FQx-EgqEgqRs",
        "colab_type": "code",
        "colab": {
          "base_uri": "https://localhost:8080/",
          "height": 84
        },
        "outputId": "0dad0a8a-5853-46fc-c3bf-a1e21aaa252a"
      },
      "cell_type": "code",
      "source": [
        "train.Class.value_counts(normalize=True)"
      ],
      "execution_count": 9,
      "outputs": [
        {
          "output_type": "execute_result",
          "data": {
            "text/plain": [
              "MIDDLE    0.542751\n",
              "YOUNG     0.336883\n",
              "OLD       0.120366\n",
              "Name: Class, dtype: float64"
            ]
          },
          "metadata": {
            "tags": []
          },
          "execution_count": 9
        }
      ]
    },
    {
      "metadata": {
        "id": "NPgCqfszhGWQ",
        "colab_type": "code",
        "colab": {
          "base_uri": "https://localhost:8080/",
          "height": 34
        },
        "outputId": "17a39f43-bea1-417c-d35a-01346f62a9b4"
      },
      "cell_type": "code",
      "source": [
        "import keras\n",
        "from sklearn.preprocessing import LabelEncoder\n",
        "\n",
        "lb=LabelEncoder()\n",
        "train_y=lb.fit_transform(train.Class)\n",
        "train_y=keras.utils.np_utils.to_categorical(train_y)"
      ],
      "execution_count": 10,
      "outputs": [
        {
          "output_type": "stream",
          "text": [
            "Using TensorFlow backend.\n"
          ],
          "name": "stderr"
        }
      ]
    },
    {
      "metadata": {
        "id": "S-yc910Qj9Xu",
        "colab_type": "code",
        "colab": {}
      },
      "cell_type": "code",
      "source": [
        "input_num_units = (32, 32, 3)\n",
        "hidden_num_units = 500\n",
        "output_num_units = 3\n",
        "\n",
        "epochs = 5\n",
        "batch_size = 128"
      ],
      "execution_count": 0,
      "outputs": []
    },
    {
      "metadata": {
        "id": "-hEjYWk1kRG7",
        "colab_type": "code",
        "colab": {}
      },
      "cell_type": "code",
      "source": [
        "from keras.models import Sequential\n",
        "from keras.layers import Dense, Flatten, InputLayer"
      ],
      "execution_count": 0,
      "outputs": []
    },
    {
      "metadata": {
        "id": "W9Is_F0bkVgj",
        "colab_type": "code",
        "colab": {
          "base_uri": "https://localhost:8080/",
          "height": 87
        },
        "outputId": "c3e164d9-6ae1-4779-b96a-3fc4fb0d58a1"
      },
      "cell_type": "code",
      "source": [
        "model = Sequential([\n",
        "  InputLayer(input_shape=input_num_units),\n",
        "  Flatten(),\n",
        "  Dense(units=hidden_num_units, activation='relu'),\n",
        "  Dense(units=output_num_units, activation='softmax'),\n",
        "])"
      ],
      "execution_count": 13,
      "outputs": [
        {
          "output_type": "stream",
          "text": [
            "WARNING:tensorflow:From /usr/local/lib/python3.6/dist-packages/tensorflow/python/framework/op_def_library.py:263: colocate_with (from tensorflow.python.framework.ops) is deprecated and will be removed in a future version.\n",
            "Instructions for updating:\n",
            "Colocations handled automatically by placer.\n"
          ],
          "name": "stdout"
        }
      ]
    },
    {
      "metadata": {
        "id": "oEdRmNqfkXwj",
        "colab_type": "code",
        "colab": {
          "base_uri": "https://localhost:8080/",
          "height": 235
        },
        "outputId": "59705b60-83e4-4953-a98c-70415c9463b3"
      },
      "cell_type": "code",
      "source": [
        "model.summary()"
      ],
      "execution_count": 14,
      "outputs": [
        {
          "output_type": "stream",
          "text": [
            "_________________________________________________________________\n",
            "Layer (type)                 Output Shape              Param #   \n",
            "=================================================================\n",
            "flatten_1 (Flatten)          (None, 3072)              0         \n",
            "_________________________________________________________________\n",
            "dense_1 (Dense)              (None, 500)               1536500   \n",
            "_________________________________________________________________\n",
            "dense_2 (Dense)              (None, 3)                 1503      \n",
            "=================================================================\n",
            "Total params: 1,538,003\n",
            "Trainable params: 1,538,003\n",
            "Non-trainable params: 0\n",
            "_________________________________________________________________\n"
          ],
          "name": "stdout"
        }
      ]
    },
    {
      "metadata": {
        "id": "63nQtJickcbg",
        "colab_type": "code",
        "colab": {
          "base_uri": "https://localhost:8080/",
          "height": 272
        },
        "outputId": "d2af49bc-f1a6-431d-917f-c1c245f097ab"
      },
      "cell_type": "code",
      "source": [
        "model.compile(optimizer='sgd', loss='categorical_crossentropy', metrics=['accuracy'])\n",
        "model.fit(train_x, train_y, batch_size=batch_size,epochs=epochs,verbose=2)"
      ],
      "execution_count": 15,
      "outputs": [
        {
          "output_type": "stream",
          "text": [
            "WARNING:tensorflow:From /usr/local/lib/python3.6/dist-packages/tensorflow/python/ops/math_ops.py:3066: to_int32 (from tensorflow.python.ops.math_ops) is deprecated and will be removed in a future version.\n",
            "Instructions for updating:\n",
            "Use tf.cast instead.\n",
            "Epoch 1/5\n",
            " - 4s - loss: 0.8970 - acc: 0.5762\n",
            "Epoch 2/5\n",
            " - 4s - loss: 0.8469 - acc: 0.6014\n",
            "Epoch 3/5\n",
            " - 4s - loss: 0.8262 - acc: 0.6162\n",
            "Epoch 4/5\n",
            " - 4s - loss: 0.8140 - acc: 0.6229\n",
            "Epoch 5/5\n",
            " - 4s - loss: 0.8059 - acc: 0.6283\n"
          ],
          "name": "stdout"
        },
        {
          "output_type": "execute_result",
          "data": {
            "text/plain": [
              "<keras.callbacks.History at 0x7fe56787b438>"
            ]
          },
          "metadata": {
            "tags": []
          },
          "execution_count": 15
        }
      ]
    },
    {
      "metadata": {
        "id": "TvsjGscEkiEl",
        "colab_type": "code",
        "colab": {
          "base_uri": "https://localhost:8080/",
          "height": 218
        },
        "outputId": "8ff31b2c-304b-47d7-bd02-272529db8061"
      },
      "cell_type": "code",
      "source": [
        "model.fit(train_x, train_y, batch_size=batch_size,epochs=epochs,verbose=1, validation_split=0.2)\n"
      ],
      "execution_count": 16,
      "outputs": [
        {
          "output_type": "stream",
          "text": [
            "Train on 15924 samples, validate on 3982 samples\n",
            "Epoch 1/5\n",
            "15924/15924 [==============================] - 4s 228us/step - loss: 0.8008 - acc: 0.6345 - val_loss: 0.8768 - val_acc: 0.5856\n",
            "Epoch 2/5\n",
            "15924/15924 [==============================] - 4s 224us/step - loss: 0.7971 - acc: 0.6330 - val_loss: 0.8054 - val_acc: 0.6341\n",
            "Epoch 3/5\n",
            "15924/15924 [==============================] - 4s 224us/step - loss: 0.7915 - acc: 0.6395 - val_loss: 0.7883 - val_acc: 0.6359\n",
            "Epoch 4/5\n",
            "15924/15924 [==============================] - 4s 224us/step - loss: 0.7851 - acc: 0.6404 - val_loss: 0.8365 - val_acc: 0.6022\n",
            "Epoch 5/5\n",
            "15924/15924 [==============================] - 4s 224us/step - loss: 0.7794 - acc: 0.6505 - val_loss: 0.7723 - val_acc: 0.6570\n"
          ],
          "name": "stdout"
        },
        {
          "output_type": "execute_result",
          "data": {
            "text/plain": [
              "<keras.callbacks.History at 0x7fe57db0a3c8>"
            ]
          },
          "metadata": {
            "tags": []
          },
          "execution_count": 16
        }
      ]
    },
    {
      "metadata": {
        "id": "SCz8--SVksAS",
        "colab_type": "code",
        "colab": {
          "base_uri": "https://localhost:8080/",
          "height": 195
        },
        "outputId": "c29e76aa-7d62-4762-d590-3675b3e7ef2c"
      },
      "cell_type": "code",
      "source": [
        "pred = model.predict_classes(test_x)\n",
        "pred = lb.inverse_transform(pred)\n",
        "\n",
        "test['Class'] = pred\n",
        "test.to_csv(\"sub01.csv\", index=False)\n",
        "submission=pd.read_csv(\"sub01.csv\")\n",
        "submission.head()"
      ],
      "execution_count": 19,
      "outputs": [
        {
          "output_type": "execute_result",
          "data": {
            "text/html": [
              "<div>\n",
              "<style scoped>\n",
              "    .dataframe tbody tr th:only-of-type {\n",
              "        vertical-align: middle;\n",
              "    }\n",
              "\n",
              "    .dataframe tbody tr th {\n",
              "        vertical-align: top;\n",
              "    }\n",
              "\n",
              "    .dataframe thead th {\n",
              "        text-align: right;\n",
              "    }\n",
              "</style>\n",
              "<table border=\"1\" class=\"dataframe\">\n",
              "  <thead>\n",
              "    <tr style=\"text-align: right;\">\n",
              "      <th></th>\n",
              "      <th>ID</th>\n",
              "      <th>Class</th>\n",
              "    </tr>\n",
              "  </thead>\n",
              "  <tbody>\n",
              "    <tr>\n",
              "      <th>0</th>\n",
              "      <td>25321.jpg</td>\n",
              "      <td>MIDDLE</td>\n",
              "    </tr>\n",
              "    <tr>\n",
              "      <th>1</th>\n",
              "      <td>989.jpg</td>\n",
              "      <td>YOUNG</td>\n",
              "    </tr>\n",
              "    <tr>\n",
              "      <th>2</th>\n",
              "      <td>19277.jpg</td>\n",
              "      <td>MIDDLE</td>\n",
              "    </tr>\n",
              "    <tr>\n",
              "      <th>3</th>\n",
              "      <td>13093.jpg</td>\n",
              "      <td>MIDDLE</td>\n",
              "    </tr>\n",
              "    <tr>\n",
              "      <th>4</th>\n",
              "      <td>5367.jpg</td>\n",
              "      <td>OLD</td>\n",
              "    </tr>\n",
              "  </tbody>\n",
              "</table>\n",
              "</div>"
            ],
            "text/plain": [
              "          ID   Class\n",
              "0  25321.jpg  MIDDLE\n",
              "1    989.jpg   YOUNG\n",
              "2  19277.jpg  MIDDLE\n",
              "3  13093.jpg  MIDDLE\n",
              "4   5367.jpg     OLD"
            ]
          },
          "metadata": {
            "tags": []
          },
          "execution_count": 19
        }
      ]
    }
  ]
}