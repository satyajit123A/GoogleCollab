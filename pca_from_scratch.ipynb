{
  "nbformat": 4,
  "nbformat_minor": 0,
  "metadata": {
    "colab": {
      "name": "pca_from_scratch.ipynb",
      "version": "0.3.2",
      "provenance": [],
      "collapsed_sections": [],
      "include_colab_link": true
    },
    "kernelspec": {
      "name": "python3",
      "display_name": "Python 3"
    }
  },
  "cells": [
    {
      "cell_type": "markdown",
      "metadata": {
        "id": "view-in-github",
        "colab_type": "text"
      },
      "source": [
        "<a href=\"https://colab.research.google.com/github/satyajit123A/GoogleCollab/blob/master/pca_from_scratch.ipynb\" target=\"_parent\"><img src=\"https://colab.research.google.com/assets/colab-badge.svg\" alt=\"Open In Colab\"/></a>"
      ]
    },
    {
      "metadata": {
        "id": "J9WESvP-KYvz",
        "colab_type": "text"
      },
      "cell_type": "markdown",
      "source": [
        "# PCA FROM SCRATCH UNDERSTAND BASIC MATH\n",
        "\n",
        "![PCA](https://s3.amazonaws.com/files.dezyre.com/images/Tutorials/Principal+Component+Analysis.jpg)\n",
        "\n",
        "\n",
        "# IMPORTING MODULES"
      ]
    },
    {
      "metadata": {
        "colab_type": "code",
        "id": "JkQznXEPWwg-",
        "colab": {}
      },
      "cell_type": "code",
      "source": [
        "import numpy as np\n",
        "import matplotlib.pyplot as plt\n",
        "import math\n",
        "from sklearn import decomposition"
      ],
      "execution_count": 0,
      "outputs": []
    },
    {
      "metadata": {
        "id": "gXFevEd2Xchz",
        "colab_type": "code",
        "colab": {}
      },
      "cell_type": "code",
      "source": [
        "def plot_arrow(ax, start, stop):\n",
        "    ax.annotate('', xytext=start, xy=stop,                 \n",
        "                arrowprops=dict(facecolor='red', width=2.0))"
      ],
      "execution_count": 0,
      "outputs": []
    },
    {
      "metadata": {
        "id": "H703kGDiXf4q",
        "colab_type": "code",
        "colab": {}
      },
      "cell_type": "code",
      "source": [
        "def corr_vars( start=-10, stop=10, step=0.5, mu=0, sigma=3, func=lambda x: x ):\n",
        "    x = np.arange(start, stop, step)    \n",
        "    e = np.random.normal(mu, sigma, x.size)\n",
        "    y = np.zeros(x.size)\n",
        "    \n",
        "    for ind in range(x.size):\n",
        "        y[ind] = func(x[ind]) + e[ind]\n",
        "    \n",
        "    return (x,y)"
      ],
      "execution_count": 0,
      "outputs": []
    },
    {
      "metadata": {
        "id": "4dTKvZTCX0zi",
        "colab_type": "code",
        "colab": {
          "base_uri": "https://localhost:8080/",
          "height": 187
        },
        "outputId": "cfed67cf-f33b-470c-89bc-9b6d5cd63968"
      },
      "cell_type": "code",
      "source": [
        "\n",
        "np.random.seed(100)\n",
        "\n",
        "(x1,x2) = corr_vars(start=2, stop=4, step=0.2, sigma=2, func=lambda x: 2*math.sin(x))\n",
        "\n",
        "A = np.column_stack((x1,x2))\n",
        "\n",
        "Aorig = A\n",
        "\n",
        "A"
      ],
      "execution_count": 34,
      "outputs": [
        {
          "output_type": "execute_result",
          "data": {
            "text/plain": [
              "array([[ 2.        , -1.68093609],\n",
              "       [ 2.2       ,  2.30235361],\n",
              "       [ 2.4       ,  3.65699797],\n",
              "       [ 2.6       ,  0.52613067],\n",
              "       [ 2.8       ,  2.63261787],\n",
              "       [ 3.        ,  1.3106777 ],\n",
              "       [ 3.2       ,  0.32561105],\n",
              "       [ 3.4       , -2.65116887],\n",
              "       [ 3.6       , -1.26403255],\n",
              "       [ 3.8       , -0.71371289]])"
            ]
          },
          "metadata": {
            "tags": []
          },
          "execution_count": 34
        }
      ]
    },
    {
      "metadata": {
        "id": "0GFD8wOfX4-5",
        "colab_type": "code",
        "colab": {
          "base_uri": "https://localhost:8080/",
          "height": 297
        },
        "outputId": "6fd4c0d5-eab7-4e5a-a37f-a5112ad8ab41"
      },
      "cell_type": "code",
      "source": [
        "A = (A-np.mean(A,axis=0))\n",
        "\n",
        "# Plot the original matrix\n",
        "f, (ax1, ax2) = plt.subplots(1, 2, sharey=True, figsize=(7,4))\n",
        "ax1.scatter(Aorig[:,0], Aorig[:,1])\n",
        "ax1.set_title(\"Original data\")\n",
        "ax1.grid(True)\n",
        "\n",
        "# Plot the centered data\n",
        "ax2.scatter(A[:,0],A[:,1])\n",
        "ax2.set_title(\"Centered data\")\n",
        "ax2.grid(True)\n",
        "\n",
        "ax1.axhline(0, color=\"blue\")\n",
        "ax1.axvline(0, color=\"black\")\n",
        "ax2.axhline(0, color=\"black\")\n",
        "ax2.axvline(0, color=\"blue\")\n",
        "\n",
        "plt.xlim([-2,5])\n",
        "plt.ylim([-4,5])"
      ],
      "execution_count": 36,
      "outputs": [
        {
          "output_type": "execute_result",
          "data": {
            "text/plain": [
              "(-4, 5)"
            ]
          },
          "metadata": {
            "tags": []
          },
          "execution_count": 36
        },
        {
          "output_type": "display_data",
          "data": {
            "image/png": "[encoded data removed]",
            "text/plain": [
              "<Figure size 504x288 with 2 Axes>"
            ]
          },
          "metadata": {
            "tags": []
          }
        }
      ]
    },
    {
      "metadata": {
        "id": "Sk9GAWijYcPJ",
        "colab_type": "text"
      },
      "cell_type": "markdown",
      "source": [
        "Here the point is same in both cases but we have changed the plane in the second plane we have changed the orientation of data by substracting the mean of the data point from the data"
      ]
    },
    {
      "metadata": {
        "id": "le5r9EV8Y5jW",
        "colab_type": "code",
        "colab": {
          "base_uri": "https://localhost:8080/",
          "height": 85
        },
        "outputId": "12115a37-16cb-4074-f1cf-f8d7b91bdf12"
      },
      "cell_type": "code",
      "source": [
        "S = np.dot(A.T,A)/(A.shape[0]-1)\n",
        "\n",
        "print(\"The covariance matrix is:\")\n",
        "print(S,\"\\n\")"
      ],
      "execution_count": 37,
      "outputs": [
        {
          "output_type": "stream",
          "text": [
            "The covariance matrix is:\n",
            "[[ 0.36666667 -0.55248919]\n",
            " [-0.55248919  4.18798554]] \n",
            "\n"
          ],
          "name": "stdout"
        }
      ]
    },
    {
      "metadata": {
        "id": "zjJ5xJFmZC9r",
        "colab_type": "code",
        "colab": {
          "base_uri": "https://localhost:8080/",
          "height": 314
        },
        "outputId": "71f64c80-ac32-46d2-f3ce-e04e79e4632e"
      },
      "cell_type": "code",
      "source": [
        "f, ax1 = plt.subplots(1, 1, sharey=True, figsize=(12,4))\n",
        "\n",
        "V = np.array([[-1],[0]])\n",
        "print(\"Vector slope: \",V[1]/V[0])\n",
        "ax1.scatter(A[:,0],A[:,1])\n",
        "ax1.set_title(\"Vector [-1,1]\")\n",
        "ax1.grid(True)\n",
        "ax1.plot([0,V[0]],[0,V[1]],c='r')\n",
        "plot_arrow(ax1, (0,0),(V[0],V[1]))\n",
        "plt.xlim([-5,5])\n",
        "plt.ylim([-5,5])"
      ],
      "execution_count": 38,
      "outputs": [
        {
          "output_type": "stream",
          "text": [
            "Vector slope:  [-0.]\n"
          ],
          "name": "stdout"
        },
        {
          "output_type": "execute_result",
          "data": {
            "text/plain": [
              "(-5, 5)"
            ]
          },
          "metadata": {
            "tags": []
          },
          "execution_count": 38
        },
        {
          "output_type": "display_data",
          "data": {
            "image/png": "[encoded data removed]",
            "text/plain": [
              "<Figure size 864x288 with 1 Axes>"
            ]
          },
          "metadata": {
            "tags": []
          }
        }
      ]
    },
    {
      "metadata": {
        "id": "yTxivELiZR4o",
        "colab_type": "code",
        "colab": {
          "base_uri": "https://localhost:8080/",
          "height": 314
        },
        "outputId": "f3c3a511-ea84-4d68-c84c-e532fa826d80"
      },
      "cell_type": "code",
      "source": [
        "f, ax1 = plt.subplots(1, 1, sharey=True, figsize=(12,4))\n",
        "\n",
        "V = np.dot(S,V)\n",
        "print(\"Vector slope: \",V[1]/V[0])\n",
        "ax1.scatter(A[:,0],A[:,1])\n",
        "ax1.set_title(\"Vector [-1,1]\")\n",
        "ax1.grid(True)\n",
        "ax1.plot([0,V[0]],[0,V[1]],c='r')\n",
        "plot_arrow(ax1, (0,0),(V[0],V[1]))\n",
        "\n",
        "plt.xlim([-5,5])\n",
        "plt.ylim([-5,5])"
      ],
      "execution_count": 39,
      "outputs": [
        {
          "output_type": "stream",
          "text": [
            "Vector slope:  [-1.50678871]\n"
          ],
          "name": "stdout"
        },
        {
          "output_type": "execute_result",
          "data": {
            "text/plain": [
              "(-5, 5)"
            ]
          },
          "metadata": {
            "tags": []
          },
          "execution_count": 39
        },
        {
          "output_type": "display_data",
          "data": {
            "image/png": "[encoded data removed]",
            "text/plain": [
              "<Figure size 864x288 with 1 Axes>"
            ]
          },
          "metadata": {
            "tags": []
          }
        }
      ]
    },
    {
      "metadata": {
        "id": "JQeFxdCEZd6X",
        "colab_type": "code",
        "colab": {
          "base_uri": "https://localhost:8080/",
          "height": 314
        },
        "outputId": "73708dae-13be-4926-f21c-00719c185157"
      },
      "cell_type": "code",
      "source": [
        "f, ax1 = plt.subplots(1, 1, sharey=True, figsize=(12,4))\n",
        "\n",
        "V = np.dot(S,V)\n",
        "print(\"Vector slope: \",V[1]/V[0])\n",
        "ax1.scatter(A[:,0],A[:,1])\n",
        "ax1.set_title(\"Vector [-1,1]\")\n",
        "ax1.grid(True)\n",
        "ax1.plot([0,V[0]],[0,V[1]],c='r')\n",
        "plot_arrow(ax1, (0,0),(V[0],V[1]))\n",
        "\n",
        "plt.xlim([-5,5])\n",
        "plt.ylim([-5,5])"
      ],
      "execution_count": 40,
      "outputs": [
        {
          "output_type": "stream",
          "text": [
            "Vector slope:  [-5.72313052]\n"
          ],
          "name": "stdout"
        },
        {
          "output_type": "execute_result",
          "data": {
            "text/plain": [
              "(-5, 5)"
            ]
          },
          "metadata": {
            "tags": []
          },
          "execution_count": 40
        },
        {
          "output_type": "display_data",
          "data": {
            "image/png": "[encoded data removed]",
            "text/plain": [
              "<Figure size 864x288 with 1 Axes>"
            ]
          },
          "metadata": {
            "tags": []
          }
        }
      ]
    },
    {
      "metadata": {
        "id": "iIJOiMV-Zk6A",
        "colab_type": "code",
        "colab": {
          "base_uri": "https://localhost:8080/",
          "height": 425
        },
        "outputId": "44fdb2e0-d457-4642-b066-74f0e8322943"
      },
      "cell_type": "code",
      "source": [
        "f, ax1 = plt.subplots(1, 1, sharey=True, figsize=(12,4))\n",
        "\n",
        "V = np.dot(S,V)\n",
        "print(\"Vector slope: \",V[1]/V[0])\n",
        "ax1.scatter(A[:,0],A[:,1])\n",
        "ax1.set_title(\"Vector [-1,1]\")\n",
        "ax1.grid(True)\n",
        "ax1.plot([0,V[0]],[0,V[1]],c='r')\n",
        "plot_arrow(ax1, (0,0),(V[0],V[1]))\n",
        "\n",
        "plt.xlim([-5,5])\n",
        "plt.ylim([-5,5])"
      ],
      "execution_count": 41,
      "outputs": [
        {
          "output_type": "stream",
          "text": [
            "Vector slope:  [-6.94911232]\n"
          ],
          "name": "stdout"
        },
        {
          "output_type": "execute_result",
          "data": {
            "text/plain": [
              "(-5, 5)"
            ]
          },
          "metadata": {
            "tags": []
          },
          "execution_count": 41
        },
        {
          "output_type": "display_data",
          "data": {
            "image/png": "[encoded data removed]",
            "text/plain": [
              "<Figure size 864x288 with 1 Axes>"
            ]
          },
          "metadata": {
            "tags": []
          }
        }
      ]
    },
    {
      "metadata": {
        "id": "Nr9PdlfmZsM_",
        "colab_type": "code",
        "colab": {
          "base_uri": "https://localhost:8080/",
          "height": 153
        },
        "outputId": "e7d214fb-7bd9-44e3-9aa0-29403d667c8b"
      },
      "cell_type": "code",
      "source": [
        "print(\"The slope of the vector converges to the direction of greatest variance:\\n\")\n",
        "\n",
        "V = np.dot(S,V)\n",
        "print(\"Vector slope: \",V[1]/V[0])\n",
        "V = np.dot(S,V)\n",
        "print(\"Vector slope: \",V[1]/V[0])\n",
        "V = np.dot(S,V)\n",
        "print(\"Vector slope: \",V[1]/V[0])\n",
        "V = np.dot(S,V)\n",
        "print(\"Vector slope: \",V[1]/V[0])\n",
        "V = np.dot(S,V)\n",
        "print(\"Vector slope: \",V[1]/V[0])\n",
        "V = np.dot(S,V)\n",
        "print(\"Vector slope: \",V[1]/V[0])"
      ],
      "execution_count": 42,
      "outputs": [
        {
          "output_type": "stream",
          "text": [
            "The slope of the vector converges to the direction of greatest variance:\n",
            "\n",
            "Vector slope:  [-7.0507464]\n",
            "Vector slope:  [-7.0577219]\n",
            "Vector slope:  [-7.05819391]\n",
            "Vector slope:  [-7.05822582]\n",
            "Vector slope:  [-7.05822798]\n",
            "Vector slope:  [-7.05822813]\n"
          ],
          "name": "stdout"
        }
      ]
    },
    {
      "metadata": {
        "id": "0yPTKOD5ZvK8",
        "colab_type": "code",
        "colab": {
          "base_uri": "https://localhost:8080/",
          "height": 68
        },
        "outputId": "85f91548-9417-45b8-bf60-b8141d616021"
      },
      "cell_type": "code",
      "source": [
        "# https://en.wikipedia.org/wiki/Eigenvalue_algorithm\n",
        "\n",
        "l_1 = (S.trace() + np.sqrt(pow(S.trace(),2) - 4*np.linalg.det(S))) / 2\n",
        "l_2 = (S.trace() - np.sqrt(pow(S.trace(),2) - 4*np.linalg.det(S))) / 2\n",
        "\n",
        "print(\"The eigenvalues are:\")\n",
        "print(\"L1:\",l_1)\n",
        "print(\"L2:\",l_2)"
      ],
      "execution_count": 43,
      "outputs": [
        {
          "output_type": "stream",
          "text": [
            "The eigenvalues are:\n",
            "L1: 4.26626144724024\n",
            "L2: 0.28839076171131417\n"
          ],
          "name": "stdout"
        }
      ]
    },
    {
      "metadata": {
        "id": "XCcVjZ-vaAmh",
        "colab_type": "code",
        "colab": {
          "base_uri": "https://localhost:8080/",
          "height": 68
        },
        "outputId": "ae37b113-f614-4073-ea23-776b6a74703e"
      },
      "cell_type": "code",
      "source": [
        "# Cayley-Hamilton theorem\n",
        "# (A - λ1I )(A - λ2I ) = (A - λ2I )(A - λ1I ) = 0\n",
        "\n",
        "A1 = S - l_1 * np.identity(2)\n",
        "A2 = S - l_2 * np.identity(2)\n",
        "\n",
        "E1 = A2[:,1]\n",
        "E2 = A1[:,0]\n",
        "\n",
        "E1 = E1 / np.linalg.norm(E1)\n",
        "E2 = E2 / np.linalg.norm(E2)\n",
        "\n",
        "print(\"The eigenvectors are:\")\n",
        "print(\"E1:\", E1)\n",
        "print(\"E2:\", E2)"
      ],
      "execution_count": 44,
      "outputs": [
        {
          "output_type": "stream",
          "text": [
            "The eigenvectors are:\n",
            "E1: [-0.14027773  0.9901122 ]\n",
            "E2: [-0.9901122  -0.14027773]\n"
          ],
          "name": "stdout"
        }
      ]
    },
    {
      "metadata": {
        "id": "JiSPG-yMaF0Y",
        "colab_type": "code",
        "colab": {
          "base_uri": "https://localhost:8080/",
          "height": 51
        },
        "outputId": "030f99b3-7999-4450-d0a5-1005c35bfc32"
      },
      "cell_type": "code",
      "source": [
        "E = np.column_stack((E1,E2))\n",
        "\n",
        "E"
      ],
      "execution_count": 45,
      "outputs": [
        {
          "output_type": "execute_result",
          "data": {
            "text/plain": [
              "array([[-0.14027773, -0.9901122 ],\n",
              "       [ 0.9901122 , -0.14027773]])"
            ]
          },
          "metadata": {
            "tags": []
          },
          "execution_count": 45
        }
      ]
    },
    {
      "metadata": {
        "id": "A1TcEaD9aKY8",
        "colab_type": "code",
        "colab": {
          "base_uri": "https://localhost:8080/",
          "height": 68
        },
        "outputId": "d313f5d7-04b7-4a27-fc05-30a54c56b961"
      },
      "cell_type": "code",
      "source": [
        "evals, evecs = np.linalg.eigh(S)\n",
        "\n",
        "print(evals)\n",
        "print(evecs)"
      ],
      "execution_count": 46,
      "outputs": [
        {
          "output_type": "stream",
          "text": [
            "[0.28839076 4.26626145]\n",
            "[[-0.9901122  -0.14027773]\n",
            " [-0.14027773  0.9901122 ]]\n"
          ],
          "name": "stdout"
        }
      ]
    },
    {
      "metadata": {
        "id": "AgygCV82aMPC",
        "colab_type": "code",
        "colab": {
          "base_uri": "https://localhost:8080/",
          "height": 297
        },
        "outputId": "de4d1f43-393d-4406-d803-c3d8f172f93f"
      },
      "cell_type": "code",
      "source": [
        "f, (ax1, ax2, ax3) = plt.subplots(1, 3, sharey=True, figsize=(12,4))\n",
        "ax1.scatter(Aorig[:,0],Aorig[:,1])\n",
        "ax1.set_title(\"Original Data\")\n",
        "ax1.grid(True)\n",
        "ax1.set_aspect('equal')\n",
        "\n",
        "ax2.scatter(Aorig[:,0],Aorig[:,1])\n",
        "ax2.set_title(\"E1\")\n",
        "ax2.grid(True)\n",
        "plot_arrow(ax2, np.mean(Aorig,axis=0), np.mean(Aorig,axis=0) + np.dot(Aorig, E).std(axis=0).mean() * E1)\n",
        "ax2.set_aspect('equal')               \n",
        "\n",
        "ax3.scatter(Aorig[:,0],Aorig[:,1])\n",
        "ax3.set_title(\"E1 and E2\")\n",
        "ax3.grid(True)\n",
        "plot_arrow(ax3, np.mean(Aorig,axis=0), np.mean(Aorig,axis=0) + np.dot(Aorig, E).std(axis=0).mean() * E1)\n",
        "plot_arrow(ax3, np.mean(Aorig,axis=0), np.mean(Aorig,axis=0) + np.dot(Aorig, E).std(axis=0).mean() * E2)\n",
        "ax3.set_aspect('equal')               \n",
        "\n",
        "plt.xlim([0,5])\n",
        "plt.ylim([-4,5])"
      ],
      "execution_count": 47,
      "outputs": [
        {
          "output_type": "execute_result",
          "data": {
            "text/plain": [
              "(-4, 5)"
            ]
          },
          "metadata": {
            "tags": []
          },
          "execution_count": 47
        },
        {
          "output_type": "display_data",
          "data": {
            "image/png": "[encoded data removed]",
            "text/plain": [
              "<Figure size 864x288 with 3 Axes>"
            ]
          },
          "metadata": {
            "tags": []
          }
        }
      ]
    },
    {
      "metadata": {
        "id": "pJ2x0u9caXfF",
        "colab_type": "code",
        "colab": {
          "base_uri": "https://localhost:8080/",
          "height": 187
        },
        "outputId": "fe5b8366-1a75-4614-b2a2-0b05333a421d"
      },
      "cell_type": "code",
      "source": [
        "F1 = np.dot(A, E1)\n",
        "F2 = np.dot(A, E2)\n",
        "\n",
        "F = np.column_stack((F1, F2))\n",
        "F"
      ],
      "execution_count": 48,
      "outputs": [
        {
          "output_type": "execute_result",
          "data": {
            "text/plain": [
              "array([[-1.97812455,  1.18924584],\n",
              "       [ 1.93772363,  0.43245658],\n",
              "       [ 3.25091797,  0.04440771],\n",
              "       [ 0.12295254,  0.28557622],\n",
              "       [ 2.18055566, -0.20793946],\n",
              "       [ 0.84363103, -0.22052313],\n",
              "       [-0.15975102, -0.28036266],\n",
              "       [-3.13515266, -0.06080918],\n",
              "       [-1.78978762, -0.45341595],\n",
              "       [-1.27296497, -0.72863598]])"
            ]
          },
          "metadata": {
            "tags": []
          },
          "execution_count": 48
        }
      ]
    },
    {
      "metadata": {
        "id": "crLBEsqHabyD",
        "colab_type": "code",
        "colab": {
          "base_uri": "https://localhost:8080/",
          "height": 187
        },
        "outputId": "57dc1f40-4eda-4380-c0cb-50870ec70525"
      },
      "cell_type": "code",
      "source": [
        "pca = decomposition.PCA(n_components=2)\n",
        "print(pca.fit_transform(A))"
      ],
      "execution_count": 49,
      "outputs": [
        {
          "output_type": "stream",
          "text": [
            "[[-1.97812455  1.18924584]\n",
            " [ 1.93772363  0.43245658]\n",
            " [ 3.25091797  0.04440771]\n",
            " [ 0.12295254  0.28557622]\n",
            " [ 2.18055566 -0.20793946]\n",
            " [ 0.84363103 -0.22052313]\n",
            " [-0.15975102 -0.28036266]\n",
            " [-3.13515266 -0.06080918]\n",
            " [-1.78978762 -0.45341595]\n",
            " [-1.27296497 -0.72863598]]\n"
          ],
          "name": "stdout"
        }
      ]
    }
  ]
}