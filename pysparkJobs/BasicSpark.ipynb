{
  "nbformat": 4,
  "nbformat_minor": 0,
  "metadata": {
    "colab": {
      "name": "BasicSpark.ipynb",
      "version": "0.3.2",
      "provenance": []
    },
    "kernelspec": {
      "name": "python3",
      "display_name": "Python 3"
    },
    "accelerator": "TPU"
  },
  "cells": [
    {
      "metadata": {
        "id": "ynVjjmjQooX9",
        "colab_type": "code",
        "colab": {
          "base_uri": "https://localhost:8080/",
          "height": 238
        },
        "outputId": "7c1dc538-c993-4268-c121-0a60cc9c6262"
      },
      "cell_type": "code",
      "source": [
        "!pip3 install pyspark"
      ],
      "execution_count": 2,
      "outputs": [
        {
          "output_type": "stream",
          "text": [
            "Collecting pyspark\n",
            "\u001b[?25l  Downloading https://files.pythonhosted.org/packages/f2/64/a1df4440483df47381bbbf6a03119ef66515cf2e1a766d9369811575454b/pyspark-2.4.1.tar.gz (215.7MB)\n",
            "\u001b[K    100% |████████████████████████████████| 215.7MB 115kB/s \n",
            "\u001b[?25hCollecting py4j==0.10.7 (from pyspark)\n",
            "\u001b[?25l  Downloading https://files.pythonhosted.org/packages/e3/53/c737818eb9a7dc32a7cd4f1396e787bd94200c3997c72c1dbe028587bd76/py4j-0.10.7-py2.py3-none-any.whl (197kB)\n",
            "\u001b[K    100% |████████████████████████████████| 204kB 26.8MB/s \n",
            "\u001b[?25hBuilding wheels for collected packages: pyspark\n",
            "  Building wheel for pyspark (setup.py) ... \u001b[?25ldone\n",
            "\u001b[?25h  Stored in directory: /root/.cache/pip/wheels/47/9b/57/7984bf19763749a13eece44c3174adb6ae4bc95b920375ff50\n",
            "Successfully built pyspark\n",
            "Installing collected packages: py4j, pyspark\n",
            "Successfully installed py4j-0.10.7 pyspark-2.4.1\n"
          ],
          "name": "stdout"
        }
      ]
    },
    {
      "metadata": {
        "id": "DV8fX-m5osd8",
        "colab_type": "code",
        "colab": {}
      },
      "cell_type": "code",
      "source": [
        "from pyspark.sql import SparkSession\n",
        "\n",
        "spark=SparkSession\\\n",
        ".builder\\\n",
        ".appName(\"basic\")\\\n",
        ".config(\"spark.some.config.option\",\"some-value\")\\\n",
        ".getOrCreate()"
      ],
      "execution_count": 0,
      "outputs": []
    },
    {
      "metadata": {
        "id": "TpoNg93Wpe4T",
        "colab_type": "code",
        "colab": {
          "base_uri": "https://localhost:8080/",
          "height": 386
        },
        "outputId": "b16bcda8-a40b-496b-b40a-4c2d2a5ae00d"
      },
      "cell_type": "code",
      "source": [
        "df=spark.read.format(\"com.databricks.spark.csv\").\\\n",
        "options(header=\"true\",inferschema=\"true\").\\\n",
        "load(\"sample_data/california_housing_train.csv\",header=True)\n",
        "\n",
        "df.show(5)\n",
        "df.printSchema()"
      ],
      "execution_count": 4,
      "outputs": [
        {
          "output_type": "stream",
          "text": [
            "+---------+--------+------------------+-----------+--------------+----------+----------+-------------+------------------+\n",
            "|longitude|latitude|housing_median_age|total_rooms|total_bedrooms|population|households|median_income|median_house_value|\n",
            "+---------+--------+------------------+-----------+--------------+----------+----------+-------------+------------------+\n",
            "|  -114.31|   34.19|              15.0|     5612.0|        1283.0|    1015.0|     472.0|       1.4936|           66900.0|\n",
            "|  -114.47|    34.4|              19.0|     7650.0|        1901.0|    1129.0|     463.0|         1.82|           80100.0|\n",
            "|  -114.56|   33.69|              17.0|      720.0|         174.0|     333.0|     117.0|       1.6509|           85700.0|\n",
            "|  -114.57|   33.64|              14.0|     1501.0|         337.0|     515.0|     226.0|       3.1917|           73400.0|\n",
            "|  -114.57|   33.57|              20.0|     1454.0|         326.0|     624.0|     262.0|        1.925|           65500.0|\n",
            "+---------+--------+------------------+-----------+--------------+----------+----------+-------------+------------------+\n",
            "only showing top 5 rows\n",
            "\n",
            "root\n",
            " |-- longitude: double (nullable = true)\n",
            " |-- latitude: double (nullable = true)\n",
            " |-- housing_median_age: double (nullable = true)\n",
            " |-- total_rooms: double (nullable = true)\n",
            " |-- total_bedrooms: double (nullable = true)\n",
            " |-- population: double (nullable = true)\n",
            " |-- households: double (nullable = true)\n",
            " |-- median_income: double (nullable = true)\n",
            " |-- median_house_value: double (nullable = true)\n",
            "\n"
          ],
          "name": "stdout"
        }
      ]
    },
    {
      "metadata": {
        "id": "b90rJghgrKiu",
        "colab_type": "text"
      },
      "cell_type": "markdown",
      "source": [
        "# jargon of Apache Spark\n",
        "\n",
        "\n",
        "*  ** Job:** A piece of code which reads some input from HDFS or local, performs some computation on the\n",
        "data and writes some output data.\n",
        "\n",
        "\n",
        "*   **Stages:** Jobs are divided into stages. Stages are classified as a Map or reduce stages (Its easier to\n",
        "understand if you have worked on Hadoop and want to correlate). Stages are divided based on computational\n",
        "boundaries, all computations (operators) cannot be Updated in a single Stage. It happens\n",
        "over many stages.\n",
        "\n",
        "\n",
        "*   **Tasks:** Each stage has some tasks, one task per partition. One task is executed on one partition of data\n",
        "on one executor (machine).\n",
        "\n",
        "*  ** DAG:** DAG stands for Directed Acyclic Graph, in the present context its a DAG of operators.\n",
        "*   **Executor:** The process responsible for executing a task.\n",
        "\n",
        "\n",
        "*   **Master:** The machine on which the Driver program runs.\n",
        "\n",
        "*   **Slave:** The machine on which the Executor program runs.\n",
        "\n",
        "\n",
        "\n",
        "\n",
        "\n",
        "---\n",
        "# Spark Components\n",
        "\n",
        "\n",
        "\n",
        "> 1.** Spark Driver**\n",
        "\n",
        "\n",
        "*   separate process to execute user applications\n",
        "*  creates SparkContext to schedule jobs execution and negotiate with cluster manager\n",
        "\n",
        "\n",
        "\n",
        "  > 2.**Cluster Manager**\n",
        "\n",
        "\n",
        "\n",
        "*   Mesos\n",
        "*   YARN\n",
        "*   StandAlone\n",
        "\n",
        "\n",
        "\n",
        "> 3.**Executors**\n",
        "\n",
        "\n",
        "*   run tasks scheduled by driver\n",
        "*   store computation results in memory, on disk or off-heap\n",
        "* interact with storage systems\n",
        "\n",
        "![alt text](http://web.utk.edu/~wfeng1/spark/_images/spark-components.png)\n",
        "\n",
        "\n",
        "\n",
        "\n",
        "\n",
        "\n",
        "\n",
        "\n",
        "\n",
        "\n",
        "\n",
        "\n",
        "\n",
        "\n",
        "\n",
        "\n",
        "\n",
        "\n",
        "\n"
      ]
    },
    {
      "metadata": {
        "id": "4SVRi6dTvUxp",
        "colab_type": "text"
      },
      "cell_type": "markdown",
      "source": [
        "Spark Driver contains more components responsible for translation of user code into actual jobs executed\n",
        "on cluster:\n",
        "\n",
        "\n",
        "*  ** SparkContext–** represents the connection to a Spark cluster, and can be used to create RDDs, accumulators\n",
        "and broadcast variables on that cluster\n",
        "*  **DAGScheduler– **computes a DAG of stages for each job and submits them to TaskScheduler determines\n",
        "preferred locations for tasks (based on cache status or shuffle files locations)\n",
        "and finds minimum schedule to run the jobs\n",
        "\n",
        "\n",
        "*   **TaskScheduler–** responsible for sending tasks to the cluster, running them, retrying if there are failures,\n",
        "and mitigating stragglers\n",
        "*   **SchedulerBackend**--backend interface for scheduling systems that allows plugging in different implementations(\n",
        "Mesos, YARN, Standalone, local)\n",
        "\n",
        "\n",
        "* ** BlockManager**--provides interfaces for putting and retrieving blocks both locally and remotely into\n",
        "various stores (memory, disk, and off-heap)\n",
        "\n",
        "\n",
        "Spark has a small code base and the system is divided in various layers. Each layer has some responsibilities.\n",
        "The layers are independent of each other.\n",
        "The first layer is the interpreter, Spark uses a Scala interpreter, with some modifications. As you enter\n",
        "your code in spark console (creating RDD’s and applying operators), Spark creates a operator graph. When\n",
        "the user runs an action (like collect), the Graph is submitted to a DAG Scheduler. The DAG scheduler\n",
        "divides operator graph into (map and reduce) stages. A stage is comprised of tasks based on partitions of\n",
        "the input data. The DAG scheduler pipelines operators together to optimize the graph. For e.g. Many map\n",
        "operators can be scheduled in a single stage. This optimization is key to Sparks performance. The final\n",
        "result of a DAG scheduler is a set of stages. The stages are passed on to the Task Scheduler. The task\n",
        "scheduler launches tasks via cluster manager. (Spark Standalone/Yarn/Mesos). The task scheduler doesn’t\n",
        "know about dependencies among stages.\n",
        "\n",
        "\n",
        "\n",
        "\n",
        "\n",
        "\n",
        "\n"
      ]
    },
    {
      "metadata": {
        "id": "U1e54vaJyIpm",
        "colab_type": "text"
      },
      "cell_type": "markdown",
      "source": [
        "# PROGRAMMING WITH RDDS\n",
        "\n",
        "An RDD in Spark is simply an immutable distributed\n",
        "collection of objects sets. Each RDD is split into multiple partitions (similar pattern with smaller sets),\n",
        "which may be computed on different nodes of the cluster.\n",
        "\n",
        "# Create RDD\n",
        "\n",
        "there are two popular way to create the RDDs:\n",
        "\n",
        "*   loading an external dataset.\n",
        "\n",
        "*   distributing a set\n",
        "of collection of objects\n",
        "\n",
        "\n",
        "\n"
      ]
    },
    {
      "metadata": {
        "id": "pAyih3Y8qThQ",
        "colab_type": "code",
        "colab": {
          "base_uri": "https://localhost:8080/",
          "height": 151
        },
        "outputId": "f9f1317d-8994-4a14-be55-2bcf63e0c9f7"
      },
      "cell_type": "code",
      "source": [
        "dataframe=spark.sparkContext.parallelize([(1,2,3,\"a b c\"),(4,5,6,\"d e f\"),(7,8,9,\"g h i\")]).toDF(['col1', 'col2', 'col3','col4'])\n",
        "dataframe.show()"
      ],
      "execution_count": 5,
      "outputs": [
        {
          "output_type": "stream",
          "text": [
            "+----+----+----+-----+\n",
            "|col1|col2|col3| col4|\n",
            "+----+----+----+-----+\n",
            "|   1|   2|   3|a b c|\n",
            "|   4|   5|   6|d e f|\n",
            "|   7|   8|   9|g h i|\n",
            "+----+----+----+-----+\n",
            "\n"
          ],
          "name": "stdout"
        }
      ]
    },
    {
      "metadata": {
        "id": "CJexTBZtzcY1",
        "colab_type": "code",
        "colab": {
          "base_uri": "https://localhost:8080/",
          "height": 34
        },
        "outputId": "d9ec1e55-0e04-4468-88d4-4ea81013e346"
      },
      "cell_type": "code",
      "source": [
        "dataframe1=spark.sparkContext.parallelize([(1,2,3,\"a b c\"),(4,5,6,\"d e f\"),(7,8,9,\"g h i\")])\n",
        "dataframe1.collect()"
      ],
      "execution_count": 6,
      "outputs": [
        {
          "output_type": "execute_result",
          "data": {
            "text/plain": [
              "[(1, 2, 3, 'a b c'), (4, 5, 6, 'd e f'), (7, 8, 9, 'g h i')]"
            ]
          },
          "metadata": {
            "tags": []
          },
          "execution_count": 6
        }
      ]
    },
    {
      "metadata": {
        "id": "C7cjbnCFztMT",
        "colab_type": "code",
        "colab": {
          "base_uri": "https://localhost:8080/",
          "height": 151
        },
        "outputId": "0d8513a4-2a8c-42a6-e05e-6da8f185a81c"
      },
      "cell_type": "code",
      "source": [
        "dataframe2=spark.createDataFrame([(\"1\",\"2\",\"3\",\"a b c\"),(\"4\",\"5\",\"6\",\"d e f\"),(\"7\",\"8\",\"9\",\"g h i\")],['col1', 'col2', 'col3','col4'])\n",
        "dataframe2.show()"
      ],
      "execution_count": 7,
      "outputs": [
        {
          "output_type": "stream",
          "text": [
            "+----+----+----+-----+\n",
            "|col1|col2|col3| col4|\n",
            "+----+----+----+-----+\n",
            "|   1|   2|   3|a b c|\n",
            "|   4|   5|   6|d e f|\n",
            "|   7|   8|   9|g h i|\n",
            "+----+----+----+-----+\n",
            "\n"
          ],
          "name": "stdout"
        }
      ]
    },
    {
      "metadata": {
        "id": "0yYik-f101w0",
        "colab_type": "text"
      },
      "cell_type": "markdown",
      "source": [
        "# Spark Operations\n",
        "\n",
        "\n",
        "\n",
        "1.   **Transformations**--Transformations construct a new RDD from a previous one. For example, one common transformation is\n",
        "filtering data that matches a predicate.\n",
        "2.   **Actions**--Actions, on the other hand, compute a result based on an RDD, and either return it to the driver program or\n",
        "save it to an external storage system (e.g., HDFS).\n",
        "\n",
        "# rdd.DataFrame vs pd.DataFrame\n",
        "\n"
      ]
    },
    {
      "metadata": {
        "id": "fczzoSg10fOh",
        "colab_type": "code",
        "colab": {}
      },
      "cell_type": "code",
      "source": [
        "my_list = [['a', 1, 2], ['b', 2, 3],['c', 3, 4]]\n",
        "col_name = ['A', 'B', 'C']"
      ],
      "execution_count": 0,
      "outputs": []
    },
    {
      "metadata": {
        "id": "zUrrYiwV1sHT",
        "colab_type": "code",
        "colab": {
          "base_uri": "https://localhost:8080/",
          "height": 136
        },
        "outputId": "7b62de6c-45e8-4a1f-f5b2-e92a5c580185"
      },
      "cell_type": "code",
      "source": [
        "import pandas as pd\n",
        "# caution for the columns=\n",
        "pd.DataFrame(my_list,columns= col_name)"
      ],
      "execution_count": 9,
      "outputs": [
        {
          "output_type": "execute_result",
          "data": {
            "text/html": [
              "<div>\n",
              "<style scoped>\n",
              "    .dataframe tbody tr th:only-of-type {\n",
              "        vertical-align: middle;\n",
              "    }\n",
              "\n",
              "    .dataframe tbody tr th {\n",
              "        vertical-align: top;\n",
              "    }\n",
              "\n",
              "    .dataframe thead th {\n",
              "        text-align: right;\n",
              "    }\n",
              "</style>\n",
              "<table border=\"1\" class=\"dataframe\">\n",
              "  <thead>\n",
              "    <tr style=\"text-align: right;\">\n",
              "      <th></th>\n",
              "      <th>A</th>\n",
              "      <th>B</th>\n",
              "      <th>C</th>\n",
              "    </tr>\n",
              "  </thead>\n",
              "  <tbody>\n",
              "    <tr>\n",
              "      <th>0</th>\n",
              "      <td>a</td>\n",
              "      <td>1</td>\n",
              "      <td>2</td>\n",
              "    </tr>\n",
              "    <tr>\n",
              "      <th>1</th>\n",
              "      <td>b</td>\n",
              "      <td>2</td>\n",
              "      <td>3</td>\n",
              "    </tr>\n",
              "    <tr>\n",
              "      <th>2</th>\n",
              "      <td>c</td>\n",
              "      <td>3</td>\n",
              "      <td>4</td>\n",
              "    </tr>\n",
              "  </tbody>\n",
              "</table>\n",
              "</div>"
            ],
            "text/plain": [
              "   A  B  C\n",
              "0  a  1  2\n",
              "1  b  2  3\n",
              "2  c  3  4"
            ]
          },
          "metadata": {
            "tags": []
          },
          "execution_count": 9
        }
      ]
    },
    {
      "metadata": {
        "id": "s-uroAHg2Iyz",
        "colab_type": "text"
      },
      "cell_type": "markdown",
      "source": [
        "Pay attentation to the parameter **columns= in pd.DataFrame**. Since the default value\n",
        "will make the list as rows."
      ]
    },
    {
      "metadata": {
        "id": "OSjt85b72MHK",
        "colab_type": "code",
        "colab": {
          "base_uri": "https://localhost:8080/",
          "height": 136
        },
        "outputId": "a384c36f-0f85-452f-e435-7201ea755524"
      },
      "cell_type": "code",
      "source": [
        "pd.DataFrame(my_list, col_name)"
      ],
      "execution_count": 10,
      "outputs": [
        {
          "output_type": "execute_result",
          "data": {
            "text/html": [
              "<div>\n",
              "<style scoped>\n",
              "    .dataframe tbody tr th:only-of-type {\n",
              "        vertical-align: middle;\n",
              "    }\n",
              "\n",
              "    .dataframe tbody tr th {\n",
              "        vertical-align: top;\n",
              "    }\n",
              "\n",
              "    .dataframe thead th {\n",
              "        text-align: right;\n",
              "    }\n",
              "</style>\n",
              "<table border=\"1\" class=\"dataframe\">\n",
              "  <thead>\n",
              "    <tr style=\"text-align: right;\">\n",
              "      <th></th>\n",
              "      <th>0</th>\n",
              "      <th>1</th>\n",
              "      <th>2</th>\n",
              "    </tr>\n",
              "  </thead>\n",
              "  <tbody>\n",
              "    <tr>\n",
              "      <th>A</th>\n",
              "      <td>a</td>\n",
              "      <td>1</td>\n",
              "      <td>2</td>\n",
              "    </tr>\n",
              "    <tr>\n",
              "      <th>B</th>\n",
              "      <td>b</td>\n",
              "      <td>2</td>\n",
              "      <td>3</td>\n",
              "    </tr>\n",
              "    <tr>\n",
              "      <th>C</th>\n",
              "      <td>c</td>\n",
              "      <td>3</td>\n",
              "      <td>4</td>\n",
              "    </tr>\n",
              "  </tbody>\n",
              "</table>\n",
              "</div>"
            ],
            "text/plain": [
              "   0  1  2\n",
              "A  a  1  2\n",
              "B  b  2  3\n",
              "C  c  3  4"
            ]
          },
          "metadata": {
            "tags": []
          },
          "execution_count": 10
        }
      ]
    },
    {
      "metadata": {
        "id": "CaDY2CjL1wuI",
        "colab_type": "code",
        "colab": {
          "base_uri": "https://localhost:8080/",
          "height": 151
        },
        "outputId": "ad6d6001-b4a3-47f3-d162-27ce8f17f2ec"
      },
      "cell_type": "code",
      "source": [
        "spark.createDataFrame(my_list, col_name).show()"
      ],
      "execution_count": 11,
      "outputs": [
        {
          "output_type": "stream",
          "text": [
            "+---+---+---+\n",
            "|  A|  B|  C|\n",
            "+---+---+---+\n",
            "|  a|  1|  2|\n",
            "|  b|  2|  3|\n",
            "|  c|  3|  4|\n",
            "+---+---+---+\n",
            "\n"
          ],
          "name": "stdout"
        }
      ]
    },
    {
      "metadata": {
        "id": "IhVoAxHd2zI7",
        "colab_type": "text"
      },
      "cell_type": "markdown",
      "source": [
        "# From Dict"
      ]
    },
    {
      "metadata": {
        "id": "mir3nw6t2cqD",
        "colab_type": "code",
        "colab": {}
      },
      "cell_type": "code",
      "source": [
        "d = {'A': [0, 1, 0],\n",
        "'B': [1, 0, 1],\n",
        "'C': [1, 0, 0]}"
      ],
      "execution_count": 0,
      "outputs": []
    },
    {
      "metadata": {
        "id": "0eCG2n9k2gEN",
        "colab_type": "code",
        "colab": {
          "base_uri": "https://localhost:8080/",
          "height": 136
        },
        "outputId": "74fd740f-0dd1-4024-8a70-6f57e6e0b272"
      },
      "cell_type": "code",
      "source": [
        "pd.DataFrame(d)"
      ],
      "execution_count": 13,
      "outputs": [
        {
          "output_type": "execute_result",
          "data": {
            "text/html": [
              "<div>\n",
              "<style scoped>\n",
              "    .dataframe tbody tr th:only-of-type {\n",
              "        vertical-align: middle;\n",
              "    }\n",
              "\n",
              "    .dataframe tbody tr th {\n",
              "        vertical-align: top;\n",
              "    }\n",
              "\n",
              "    .dataframe thead th {\n",
              "        text-align: right;\n",
              "    }\n",
              "</style>\n",
              "<table border=\"1\" class=\"dataframe\">\n",
              "  <thead>\n",
              "    <tr style=\"text-align: right;\">\n",
              "      <th></th>\n",
              "      <th>A</th>\n",
              "      <th>B</th>\n",
              "      <th>C</th>\n",
              "    </tr>\n",
              "  </thead>\n",
              "  <tbody>\n",
              "    <tr>\n",
              "      <th>0</th>\n",
              "      <td>0</td>\n",
              "      <td>1</td>\n",
              "      <td>1</td>\n",
              "    </tr>\n",
              "    <tr>\n",
              "      <th>1</th>\n",
              "      <td>1</td>\n",
              "      <td>0</td>\n",
              "      <td>0</td>\n",
              "    </tr>\n",
              "    <tr>\n",
              "      <th>2</th>\n",
              "      <td>0</td>\n",
              "      <td>1</td>\n",
              "      <td>0</td>\n",
              "    </tr>\n",
              "  </tbody>\n",
              "</table>\n",
              "</div>"
            ],
            "text/plain": [
              "   A  B  C\n",
              "0  0  1  1\n",
              "1  1  0  0\n",
              "2  0  1  0"
            ]
          },
          "metadata": {
            "tags": []
          },
          "execution_count": 13
        }
      ]
    },
    {
      "metadata": {
        "id": "868cE9r72qGq",
        "colab_type": "code",
        "colab": {
          "base_uri": "https://localhost:8080/",
          "height": 151
        },
        "outputId": "5a239f94-c91d-4b21-9f16-1f98319f688c"
      },
      "cell_type": "code",
      "source": [
        "import numpy as np\n",
        "spark.createDataFrame(np.array(list(d.values())).T.tolist(),list(d.keys())).show()"
      ],
      "execution_count": 14,
      "outputs": [
        {
          "output_type": "stream",
          "text": [
            "+---+---+---+\n",
            "|  A|  B|  C|\n",
            "+---+---+---+\n",
            "|  0|  1|  1|\n",
            "|  1|  0|  0|\n",
            "|  0|  1|  0|\n",
            "+---+---+---+\n",
            "\n"
          ],
          "name": "stdout"
        }
      ]
    },
    {
      "metadata": {
        "id": "oC1xQ95a3Uu0",
        "colab_type": "text"
      },
      "cell_type": "markdown",
      "source": [
        "# Reading Files From CSV Files"
      ]
    },
    {
      "metadata": {
        "id": "r6fQrU9V2wkn",
        "colab_type": "code",
        "colab": {
          "base_uri": "https://localhost:8080/",
          "height": 136
        },
        "outputId": "a9850baf-2633-439c-d662-b0182069177a"
      },
      "cell_type": "code",
      "source": [
        "dps = pd.read_csv('sample_data/california_housing_train.csv')\n",
        "dps.head(3)"
      ],
      "execution_count": 15,
      "outputs": [
        {
          "output_type": "execute_result",
          "data": {
            "text/html": [
              "<div>\n",
              "<style scoped>\n",
              "    .dataframe tbody tr th:only-of-type {\n",
              "        vertical-align: middle;\n",
              "    }\n",
              "\n",
              "    .dataframe tbody tr th {\n",
              "        vertical-align: top;\n",
              "    }\n",
              "\n",
              "    .dataframe thead th {\n",
              "        text-align: right;\n",
              "    }\n",
              "</style>\n",
              "<table border=\"1\" class=\"dataframe\">\n",
              "  <thead>\n",
              "    <tr style=\"text-align: right;\">\n",
              "      <th></th>\n",
              "      <th>longitude</th>\n",
              "      <th>latitude</th>\n",
              "      <th>housing_median_age</th>\n",
              "      <th>total_rooms</th>\n",
              "      <th>total_bedrooms</th>\n",
              "      <th>population</th>\n",
              "      <th>households</th>\n",
              "      <th>median_income</th>\n",
              "      <th>median_house_value</th>\n",
              "    </tr>\n",
              "  </thead>\n",
              "  <tbody>\n",
              "    <tr>\n",
              "      <th>0</th>\n",
              "      <td>-114.31</td>\n",
              "      <td>34.19</td>\n",
              "      <td>15.0</td>\n",
              "      <td>5612.0</td>\n",
              "      <td>1283.0</td>\n",
              "      <td>1015.0</td>\n",
              "      <td>472.0</td>\n",
              "      <td>1.4936</td>\n",
              "      <td>66900.0</td>\n",
              "    </tr>\n",
              "    <tr>\n",
              "      <th>1</th>\n",
              "      <td>-114.47</td>\n",
              "      <td>34.40</td>\n",
              "      <td>19.0</td>\n",
              "      <td>7650.0</td>\n",
              "      <td>1901.0</td>\n",
              "      <td>1129.0</td>\n",
              "      <td>463.0</td>\n",
              "      <td>1.8200</td>\n",
              "      <td>80100.0</td>\n",
              "    </tr>\n",
              "    <tr>\n",
              "      <th>2</th>\n",
              "      <td>-114.56</td>\n",
              "      <td>33.69</td>\n",
              "      <td>17.0</td>\n",
              "      <td>720.0</td>\n",
              "      <td>174.0</td>\n",
              "      <td>333.0</td>\n",
              "      <td>117.0</td>\n",
              "      <td>1.6509</td>\n",
              "      <td>85700.0</td>\n",
              "    </tr>\n",
              "  </tbody>\n",
              "</table>\n",
              "</div>"
            ],
            "text/plain": [
              "   longitude  latitude  housing_median_age  total_rooms  total_bedrooms  \\\n",
              "0    -114.31     34.19                15.0       5612.0          1283.0   \n",
              "1    -114.47     34.40                19.0       7650.0          1901.0   \n",
              "2    -114.56     33.69                17.0        720.0           174.0   \n",
              "\n",
              "   population  households  median_income  median_house_value  \n",
              "0      1015.0       472.0         1.4936             66900.0  \n",
              "1      1129.0       463.0         1.8200             80100.0  \n",
              "2       333.0       117.0         1.6509             85700.0  "
            ]
          },
          "metadata": {
            "tags": []
          },
          "execution_count": 15
        }
      ]
    },
    {
      "metadata": {
        "id": "JlVXWmE33keK",
        "colab_type": "code",
        "colab": {
          "base_uri": "https://localhost:8080/",
          "height": 168
        },
        "outputId": "056458b1-a185-42c6-f16c-bc7deda7b214"
      },
      "cell_type": "code",
      "source": [
        "dss = spark.read.csv(path='sample_data/california_housing_train.csv',sep=\",\",encoding=\"UTF-8\",comment=None,header=True,inferSchema=True)\n",
        "dss.show(3)"
      ],
      "execution_count": 16,
      "outputs": [
        {
          "output_type": "stream",
          "text": [
            "+---------+--------+------------------+-----------+--------------+----------+----------+-------------+------------------+\n",
            "|longitude|latitude|housing_median_age|total_rooms|total_bedrooms|population|households|median_income|median_house_value|\n",
            "+---------+--------+------------------+-----------+--------------+----------+----------+-------------+------------------+\n",
            "|  -114.31|   34.19|              15.0|     5612.0|        1283.0|    1015.0|     472.0|       1.4936|           66900.0|\n",
            "|  -114.47|    34.4|              19.0|     7650.0|        1901.0|    1129.0|     463.0|         1.82|           80100.0|\n",
            "|  -114.56|   33.69|              17.0|      720.0|         174.0|     333.0|     117.0|       1.6509|           85700.0|\n",
            "+---------+--------+------------------+-----------+--------------+----------+----------+-------------+------------------+\n",
            "only showing top 3 rows\n",
            "\n"
          ],
          "name": "stdout"
        }
      ]
    },
    {
      "metadata": {
        "id": "-PBlf-0Q4OmB",
        "colab_type": "code",
        "colab": {
          "base_uri": "https://localhost:8080/",
          "height": 84
        },
        "outputId": "a905b946-62cc-4182-a73c-6be411b94e4c"
      },
      "cell_type": "code",
      "source": [
        "dps.columns"
      ],
      "execution_count": 17,
      "outputs": [
        {
          "output_type": "execute_result",
          "data": {
            "text/plain": [
              "Index(['longitude', 'latitude', 'housing_median_age', 'total_rooms',\n",
              "       'total_bedrooms', 'population', 'households', 'median_income',\n",
              "       'median_house_value'],\n",
              "      dtype='object')"
            ]
          },
          "metadata": {
            "tags": []
          },
          "execution_count": 17
        }
      ]
    },
    {
      "metadata": {
        "id": "Xkyqx-U039o3",
        "colab_type": "code",
        "colab": {
          "base_uri": "https://localhost:8080/",
          "height": 168
        },
        "outputId": "01228021-f8d4-4817-a05c-89480df8ba83"
      },
      "cell_type": "code",
      "source": [
        "  dss.columns"
      ],
      "execution_count": 18,
      "outputs": [
        {
          "output_type": "execute_result",
          "data": {
            "text/plain": [
              "['longitude',\n",
              " 'latitude',\n",
              " 'housing_median_age',\n",
              " 'total_rooms',\n",
              " 'total_bedrooms',\n",
              " 'population',\n",
              " 'households',\n",
              " 'median_income',\n",
              " 'median_house_value']"
            ]
          },
          "metadata": {
            "tags": []
          },
          "execution_count": 18
        }
      ]
    },
    {
      "metadata": {
        "id": "KqK4ZKzq4Uxi",
        "colab_type": "code",
        "colab": {
          "base_uri": "https://localhost:8080/",
          "height": 185
        },
        "outputId": "d184fd06-2d35-4cf5-9a8a-d8a88aac2caa"
      },
      "cell_type": "code",
      "source": [
        "dps.dtypes"
      ],
      "execution_count": 19,
      "outputs": [
        {
          "output_type": "execute_result",
          "data": {
            "text/plain": [
              "longitude             float64\n",
              "latitude              float64\n",
              "housing_median_age    float64\n",
              "total_rooms           float64\n",
              "total_bedrooms        float64\n",
              "population            float64\n",
              "households            float64\n",
              "median_income         float64\n",
              "median_house_value    float64\n",
              "dtype: object"
            ]
          },
          "metadata": {
            "tags": []
          },
          "execution_count": 19
        }
      ]
    },
    {
      "metadata": {
        "id": "bsiuCAAj4cHr",
        "colab_type": "code",
        "colab": {
          "base_uri": "https://localhost:8080/",
          "height": 168
        },
        "outputId": "7548d0e5-39d1-429a-a8b3-4292fe98a622"
      },
      "cell_type": "code",
      "source": [
        "dss.dtypes"
      ],
      "execution_count": 20,
      "outputs": [
        {
          "output_type": "execute_result",
          "data": {
            "text/plain": [
              "[('longitude', 'double'),\n",
              " ('latitude', 'double'),\n",
              " ('housing_median_age', 'double'),\n",
              " ('total_rooms', 'double'),\n",
              " ('total_bedrooms', 'double'),\n",
              " ('population', 'double'),\n",
              " ('households', 'double'),\n",
              " ('median_income', 'double'),\n",
              " ('median_house_value', 'double')]"
            ]
          },
          "metadata": {
            "tags": []
          },
          "execution_count": 20
        }
      ]
    },
    {
      "metadata": {
        "id": "U00fBrrB4oFw",
        "colab_type": "text"
      },
      "cell_type": "markdown",
      "source": [
        "# Fill Null"
      ]
    },
    {
      "metadata": {
        "id": "qdwn4_-04e43",
        "colab_type": "code",
        "colab": {
          "base_uri": "https://localhost:8080/",
          "height": 235
        },
        "outputId": "9002d227-99aa-4f26-fde8-e77cb47a8350"
      },
      "cell_type": "code",
      "source": [
        "my_list = [['a', 1, None], ['b', 2, 3],['c', 3, 4]]\n",
        "dp = pd.DataFrame(my_list,columns=['A', 'B', 'C'])\n",
        "ds = spark.createDataFrame(my_list, ['A', 'B', 'C'])\n",
        "#\n",
        "print(dp.head())\n",
        "print(\"*\"*20)\n",
        "ds.show()"
      ],
      "execution_count": 21,
      "outputs": [
        {
          "output_type": "stream",
          "text": [
            "   A  B    C\n",
            "0  a  1  NaN\n",
            "1  b  2  3.0\n",
            "2  c  3  4.0\n",
            "********************\n",
            "+---+---+----+\n",
            "|  A|  B|   C|\n",
            "+---+---+----+\n",
            "|  a|  1|null|\n",
            "|  b|  2|   3|\n",
            "|  c|  3|   4|\n",
            "+---+---+----+\n",
            "\n"
          ],
          "name": "stdout"
        }
      ]
    },
    {
      "metadata": {
        "id": "riKjGnzL4yjt",
        "colab_type": "code",
        "colab": {
          "base_uri": "https://localhost:8080/",
          "height": 235
        },
        "outputId": "bd52bdc6-3085-4218-834b-4abc78bed3c3"
      },
      "cell_type": "code",
      "source": [
        "print(dp.fillna(-99))\n",
        "print(\"*\"*20)\n",
        "ds.fillna(-99).show()"
      ],
      "execution_count": 22,
      "outputs": [
        {
          "output_type": "stream",
          "text": [
            "   A  B     C\n",
            "0  a  1 -99.0\n",
            "1  b  2   3.0\n",
            "2  c  3   4.0\n",
            "********************\n",
            "+---+---+---+\n",
            "|  A|  B|  C|\n",
            "+---+---+---+\n",
            "|  a|  1|-99|\n",
            "|  b|  2|  3|\n",
            "|  c|  3|  4|\n",
            "+---+---+---+\n",
            "\n"
          ],
          "name": "stdout"
        }
      ]
    },
    {
      "metadata": {
        "id": "gAvkDq0T58BX",
        "colab_type": "code",
        "colab": {
          "base_uri": "https://localhost:8080/",
          "height": 235
        },
        "outputId": "f4074aa0-200c-4fa6-dd82-bb4674171259"
      },
      "cell_type": "code",
      "source": [
        "mapping = {'C':'Newspaper'}\n",
        "print(dp.rename(columns=mapping).head(4))\n",
        "print(\"*\"*20)\n",
        "new_names = [mapping.get(col,col) for col in ds.columns]\n",
        "ds.toDF(*new_names).show(4)"
      ],
      "execution_count": 23,
      "outputs": [
        {
          "output_type": "stream",
          "text": [
            "   A  B  Newspaper\n",
            "0  a  1        NaN\n",
            "1  b  2        3.0\n",
            "2  c  3        4.0\n",
            "********************\n",
            "+---+---+---------+\n",
            "|  A|  B|Newspaper|\n",
            "+---+---+---------+\n",
            "|  a|  1|     null|\n",
            "|  b|  2|        3|\n",
            "|  c|  3|        4|\n",
            "+---+---+---------+\n",
            "\n"
          ],
          "name": "stdout"
        }
      ]
    },
    {
      "metadata": {
        "id": "ZJ6Bm6VH6kfk",
        "colab_type": "code",
        "colab": {
          "base_uri": "https://localhost:8080/",
          "height": 151
        },
        "outputId": "e6e512d5-b1d1-46c7-eb25-5dc55c823f84"
      },
      "cell_type": "code",
      "source": [
        "ds.withColumnRenamed('C','Paper').show()"
      ],
      "execution_count": 24,
      "outputs": [
        {
          "output_type": "stream",
          "text": [
            "+---+---+-----+\n",
            "|  A|  B|Paper|\n",
            "+---+---+-----+\n",
            "|  a|  1| null|\n",
            "|  b|  2|    3|\n",
            "|  c|  3|    4|\n",
            "+---+---+-----+\n",
            "\n"
          ],
          "name": "stdout"
        }
      ]
    },
    {
      "metadata": {
        "id": "8oUDDooW6xGY",
        "colab_type": "code",
        "colab": {
          "base_uri": "https://localhost:8080/",
          "height": 235
        },
        "outputId": "6863e641-25ca-4744-8611-122653155b18"
      },
      "cell_type": "code",
      "source": [
        "drop_name=[\"A\"]\n",
        "print(dp.drop(drop_name,axis=1).head())\n",
        "print(\"*\"*20)\n",
        "ds.drop(*drop_name).show()\n"
      ],
      "execution_count": 25,
      "outputs": [
        {
          "output_type": "stream",
          "text": [
            "   B    C\n",
            "0  1  NaN\n",
            "1  2  3.0\n",
            "2  3  4.0\n",
            "********************\n",
            "+---+----+\n",
            "|  B|   C|\n",
            "+---+----+\n",
            "|  1|null|\n",
            "|  2|   3|\n",
            "|  3|   4|\n",
            "+---+----+\n",
            "\n"
          ],
          "name": "stdout"
        }
      ]
    },
    {
      "metadata": {
        "id": "8ECgXJ6f7KKm",
        "colab_type": "text"
      },
      "cell_type": "markdown",
      "source": [
        "# Filtering"
      ]
    },
    {
      "metadata": {
        "id": "mIaofrVo5KTe",
        "colab_type": "code",
        "colab": {
          "base_uri": "https://localhost:8080/",
          "height": 373
        },
        "outputId": "05e89366-6b4d-45a8-a8a3-9bcd5110ed66"
      },
      "cell_type": "code",
      "source": [
        "print(dps[dps.housing_median_age>18].head(3))\n",
        "print(\"-\"*150)\n",
        "print(dss[dss.housing_median_age>18].show(3))"
      ],
      "execution_count": 26,
      "outputs": [
        {
          "output_type": "stream",
          "text": [
            "   longitude  latitude  housing_median_age  total_rooms  total_bedrooms  \\\n",
            "1    -114.47     34.40                19.0       7650.0          1901.0   \n",
            "4    -114.57     33.57                20.0       1454.0           326.0   \n",
            "5    -114.58     33.63                29.0       1387.0           236.0   \n",
            "\n",
            "   population  households  median_income  median_house_value  \n",
            "1      1129.0       463.0         1.8200             80100.0  \n",
            "4       624.0       262.0         1.9250             65500.0  \n",
            "5       671.0       239.0         3.3438             74000.0  \n",
            "------------------------------------------------------------------------------------------------------------------------------------------------------\n",
            "+---------+--------+------------------+-----------+--------------+----------+----------+-------------+------------------+\n",
            "|longitude|latitude|housing_median_age|total_rooms|total_bedrooms|population|households|median_income|median_house_value|\n",
            "+---------+--------+------------------+-----------+--------------+----------+----------+-------------+------------------+\n",
            "|  -114.47|    34.4|              19.0|     7650.0|        1901.0|    1129.0|     463.0|         1.82|           80100.0|\n",
            "|  -114.57|   33.57|              20.0|     1454.0|         326.0|     624.0|     262.0|        1.925|           65500.0|\n",
            "|  -114.58|   33.63|              29.0|     1387.0|         236.0|     671.0|     239.0|       3.3438|           74000.0|\n",
            "+---------+--------+------------------+-----------+--------------+----------+----------+-------------+------------------+\n",
            "only showing top 3 rows\n",
            "\n",
            "None\n"
          ],
          "name": "stdout"
        }
      ]
    },
    {
      "metadata": {
        "id": "Ofar9UvM8Jvr",
        "colab_type": "code",
        "colab": {
          "base_uri": "https://localhost:8080/",
          "height": 490
        },
        "outputId": "894aedc1-b214-48ff-8bee-ead9284f8349"
      },
      "cell_type": "code",
      "source": [
        "from pyspark.sql import functions as F\n",
        "dps['housing_median_age_norm'] = dps.housing_median_age/sum(dps.housing_median_age)\n",
        "print(dps.head(4))\n",
        "#\n",
        "dss.withColumn('housing_median_age_norm', dss.housing_median_age/dss.groupBy().agg(F.sum(\"housing_median_age\")).collect()[0][0]).show(4)"
      ],
      "execution_count": 39,
      "outputs": [
        {
          "output_type": "stream",
          "text": [
            "   longitude  latitude  housing_median_age  total_rooms  total_bedrooms  \\\n",
            "0    -114.31     34.19                15.0       5612.0          1283.0   \n",
            "1    -114.47     34.40                19.0       7650.0          1901.0   \n",
            "2    -114.56     33.69                17.0        720.0           174.0   \n",
            "3    -114.57     33.64                14.0       1501.0           337.0   \n",
            "\n",
            "   population  households  median_income  median_house_value  \\\n",
            "0      1015.0       472.0         1.4936             66900.0   \n",
            "1      1129.0       463.0         1.8200             80100.0   \n",
            "2       333.0       117.0         1.6509             85700.0   \n",
            "3       515.0       226.0         3.1917             73400.0   \n",
            "\n",
            "   housing_median_age_norm  \n",
            "0                 0.000031  \n",
            "1                 0.000039  \n",
            "2                 0.000035  \n",
            "3                 0.000029  \n",
            "+---------+--------+------------------+-----------+--------------+----------+----------+-------------+------------------+-----------------------+\n",
            "|longitude|latitude|housing_median_age|total_rooms|total_bedrooms|population|households|median_income|median_house_value|housing_median_age_norm|\n",
            "+---------+--------+------------------+-----------+--------------+----------+----------+-------------+------------------+-----------------------+\n",
            "|  -114.31|   34.19|              15.0|     5612.0|        1283.0|    1015.0|     472.0|       1.4936|           66900.0|   3.086299095302858E-5|\n",
            "|  -114.47|    34.4|              19.0|     7650.0|        1901.0|    1129.0|     463.0|         1.82|           80100.0|   3.909312187383620...|\n",
            "|  -114.56|   33.69|              17.0|      720.0|         174.0|     333.0|     117.0|       1.6509|           85700.0|   3.497805641343239E-5|\n",
            "|  -114.57|   33.64|              14.0|     1501.0|         337.0|     515.0|     226.0|       3.1917|           73400.0|   2.880545822282668E-5|\n",
            "+---------+--------+------------------+-----------+--------------+----------+----------+-------------+------------------+-----------------------+\n",
            "only showing top 4 rows\n",
            "\n"
          ],
          "name": "stdout"
        }
      ]
    },
    {
      "metadata": {
        "id": "YIgyVJpTeNwJ",
        "colab_type": "text"
      },
      "cell_type": "markdown",
      "source": [
        "# Statistical Tests\n",
        "# Correlational Test\n",
        "\n",
        "**Pearson correlation:** Tests for the strength of the association between two **continuous** variables.\n",
        "\n",
        "**Chi-square:** Tests for the strength of the association between two **categorical **variables.\n",
        "\n",
        "**Spearman correlation:** Tests for the strength of the association between two** ordinal** variables (does\n",
        "not rely on the assumption of normal distributed data).\n",
        "\n",
        "# Comparison of Means test\n",
        "\n",
        "\n",
        "**Paired T-test:** Tests for difference between two related variables.\n",
        "\n",
        "**Independent T-test:** Tests for difference between two independent variables.\n",
        "\n",
        "\n",
        "\n"
      ]
    },
    {
      "metadata": {
        "id": "RxIunx5y9Pmd",
        "colab_type": "code",
        "colab": {}
      },
      "cell_type": "code",
      "source": [
        "def describe_pd(df_in, columns, deciles=False):\n",
        "  '''\n",
        "  Function to union the basic stats results and deciles\n",
        "  :param df_in: the input dataframe\n",
        "  :param columns: the cloumn name list of the numerical variable\n",
        "  :param deciles: the deciles output\n",
        "  :return : the numerical describe info. of the input dataframe\n",
        "  :author: sayajit maitra\n",
        "  :email: copyright@gmail.com\n",
        "  '''\n",
        "  if deciles:\n",
        "    percentiles = np.array(range(0, 110, 10))\n",
        "  else:\n",
        "    percentiles = [25, 50, 75]\n",
        "  percs = np.transpose([np.percentile(df_in.select(x).collect(),percentiles) for x in columns])\n",
        "  percs = pd.DataFrame(percs, columns=columns)\n",
        "  percs['summary'] = [str(p) + '%' for p in percentiles]\n",
        "  spark_describe = df_in.describe().toPandas()\n",
        "  new_df = pd.concat([spark_describe, percs],ignore_index=True)\n",
        "  new_df = new_df.round(2)\n",
        "  return new_df[['summary'] + columns]"
      ],
      "execution_count": 0,
      "outputs": []
    },
    {
      "metadata": {
        "id": "8E_hNWckjoNq",
        "colab_type": "code",
        "colab": {
          "base_uri": "https://localhost:8080/",
          "height": 284
        },
        "outputId": "ffae6bcd-1bd6-47ca-9fc0-a62e4b63e5c9"
      },
      "cell_type": "code",
      "source": [
        "describe_pd(dss,['housing_median_age'])"
      ],
      "execution_count": 31,
      "outputs": [
        {
          "output_type": "execute_result",
          "data": {
            "text/html": [
              "<div>\n",
              "<style scoped>\n",
              "    .dataframe tbody tr th:only-of-type {\n",
              "        vertical-align: middle;\n",
              "    }\n",
              "\n",
              "    .dataframe tbody tr th {\n",
              "        vertical-align: top;\n",
              "    }\n",
              "\n",
              "    .dataframe thead th {\n",
              "        text-align: right;\n",
              "    }\n",
              "</style>\n",
              "<table border=\"1\" class=\"dataframe\">\n",
              "  <thead>\n",
              "    <tr style=\"text-align: right;\">\n",
              "      <th></th>\n",
              "      <th>summary</th>\n",
              "      <th>housing_median_age</th>\n",
              "    </tr>\n",
              "  </thead>\n",
              "  <tbody>\n",
              "    <tr>\n",
              "      <th>0</th>\n",
              "      <td>count</td>\n",
              "      <td>17000</td>\n",
              "    </tr>\n",
              "    <tr>\n",
              "      <th>1</th>\n",
              "      <td>mean</td>\n",
              "      <td>28.58935294117647</td>\n",
              "    </tr>\n",
              "    <tr>\n",
              "      <th>2</th>\n",
              "      <td>stddev</td>\n",
              "      <td>12.586936981660406</td>\n",
              "    </tr>\n",
              "    <tr>\n",
              "      <th>3</th>\n",
              "      <td>min</td>\n",
              "      <td>1.0</td>\n",
              "    </tr>\n",
              "    <tr>\n",
              "      <th>4</th>\n",
              "      <td>max</td>\n",
              "      <td>52.0</td>\n",
              "    </tr>\n",
              "    <tr>\n",
              "      <th>5</th>\n",
              "      <td>25%</td>\n",
              "      <td>18</td>\n",
              "    </tr>\n",
              "    <tr>\n",
              "      <th>6</th>\n",
              "      <td>50%</td>\n",
              "      <td>29</td>\n",
              "    </tr>\n",
              "    <tr>\n",
              "      <th>7</th>\n",
              "      <td>75%</td>\n",
              "      <td>37</td>\n",
              "    </tr>\n",
              "  </tbody>\n",
              "</table>\n",
              "</div>"
            ],
            "text/plain": [
              "  summary  housing_median_age\n",
              "0   count               17000\n",
              "1    mean   28.58935294117647\n",
              "2  stddev  12.586936981660406\n",
              "3     min                 1.0\n",
              "4     max                52.0\n",
              "5     25%                  18\n",
              "6     50%                  29\n",
              "7     75%                  37"
            ]
          },
          "metadata": {
            "tags": []
          },
          "execution_count": 31
        }
      ]
    },
    {
      "metadata": {
        "id": "SekgYt6KkWoo",
        "colab_type": "code",
        "colab": {
          "base_uri": "https://localhost:8080/",
          "height": 521
        },
        "outputId": "89b8d023-ec61-4497-a3c4-a5a692f09949"
      },
      "cell_type": "code",
      "source": [
        "describe_pd(dss,['housing_median_age'],True)"
      ],
      "execution_count": 32,
      "outputs": [
        {
          "output_type": "execute_result",
          "data": {
            "text/html": [
              "<div>\n",
              "<style scoped>\n",
              "    .dataframe tbody tr th:only-of-type {\n",
              "        vertical-align: middle;\n",
              "    }\n",
              "\n",
              "    .dataframe tbody tr th {\n",
              "        vertical-align: top;\n",
              "    }\n",
              "\n",
              "    .dataframe thead th {\n",
              "        text-align: right;\n",
              "    }\n",
              "</style>\n",
              "<table border=\"1\" class=\"dataframe\">\n",
              "  <thead>\n",
              "    <tr style=\"text-align: right;\">\n",
              "      <th></th>\n",
              "      <th>summary</th>\n",
              "      <th>housing_median_age</th>\n",
              "    </tr>\n",
              "  </thead>\n",
              "  <tbody>\n",
              "    <tr>\n",
              "      <th>0</th>\n",
              "      <td>count</td>\n",
              "      <td>17000</td>\n",
              "    </tr>\n",
              "    <tr>\n",
              "      <th>1</th>\n",
              "      <td>mean</td>\n",
              "      <td>28.58935294117647</td>\n",
              "    </tr>\n",
              "    <tr>\n",
              "      <th>2</th>\n",
              "      <td>stddev</td>\n",
              "      <td>12.586936981660406</td>\n",
              "    </tr>\n",
              "    <tr>\n",
              "      <th>3</th>\n",
              "      <td>min</td>\n",
              "      <td>1.0</td>\n",
              "    </tr>\n",
              "    <tr>\n",
              "      <th>4</th>\n",
              "      <td>max</td>\n",
              "      <td>52.0</td>\n",
              "    </tr>\n",
              "    <tr>\n",
              "      <th>5</th>\n",
              "      <td>0%</td>\n",
              "      <td>1</td>\n",
              "    </tr>\n",
              "    <tr>\n",
              "      <th>6</th>\n",
              "      <td>10%</td>\n",
              "      <td>12</td>\n",
              "    </tr>\n",
              "    <tr>\n",
              "      <th>7</th>\n",
              "      <td>20%</td>\n",
              "      <td>17</td>\n",
              "    </tr>\n",
              "    <tr>\n",
              "      <th>8</th>\n",
              "      <td>30%</td>\n",
              "      <td>20</td>\n",
              "    </tr>\n",
              "    <tr>\n",
              "      <th>9</th>\n",
              "      <td>40%</td>\n",
              "      <td>25</td>\n",
              "    </tr>\n",
              "    <tr>\n",
              "      <th>10</th>\n",
              "      <td>50%</td>\n",
              "      <td>29</td>\n",
              "    </tr>\n",
              "    <tr>\n",
              "      <th>11</th>\n",
              "      <td>60%</td>\n",
              "      <td>33</td>\n",
              "    </tr>\n",
              "    <tr>\n",
              "      <th>12</th>\n",
              "      <td>70%</td>\n",
              "      <td>36</td>\n",
              "    </tr>\n",
              "    <tr>\n",
              "      <th>13</th>\n",
              "      <td>80%</td>\n",
              "      <td>40</td>\n",
              "    </tr>\n",
              "    <tr>\n",
              "      <th>14</th>\n",
              "      <td>90%</td>\n",
              "      <td>46</td>\n",
              "    </tr>\n",
              "    <tr>\n",
              "      <th>15</th>\n",
              "      <td>100%</td>\n",
              "      <td>52</td>\n",
              "    </tr>\n",
              "  </tbody>\n",
              "</table>\n",
              "</div>"
            ],
            "text/plain": [
              "   summary  housing_median_age\n",
              "0    count               17000\n",
              "1     mean   28.58935294117647\n",
              "2   stddev  12.586936981660406\n",
              "3      min                 1.0\n",
              "4      max                52.0\n",
              "5       0%                   1\n",
              "6      10%                  12\n",
              "7      20%                  17\n",
              "8      30%                  20\n",
              "9      40%                  25\n",
              "10     50%                  29\n",
              "11     60%                  33\n",
              "12     70%                  36\n",
              "13     80%                  40\n",
              "14     90%                  46\n",
              "15    100%                  52"
            ]
          },
          "metadata": {
            "tags": []
          },
          "execution_count": 32
        }
      ]
    },
    {
      "metadata": {
        "id": "62asL_kEkZsx",
        "colab_type": "code",
        "colab": {
          "base_uri": "https://localhost:8080/",
          "height": 185
        },
        "outputId": "e4227725-ebab-4c96-902c-e1246cdb4b7b"
      },
      "cell_type": "code",
      "source": [
        "dss.select(['housing_median_age']).describe().show()#default continous description"
      ],
      "execution_count": 33,
      "outputs": [
        {
          "output_type": "stream",
          "text": [
            "+-------+------------------+\n",
            "|summary|housing_median_age|\n",
            "+-------+------------------+\n",
            "|  count|             17000|\n",
            "|   mean| 28.58935294117647|\n",
            "| stddev|12.586936981660406|\n",
            "|    min|               1.0|\n",
            "|    max|              52.0|\n",
            "+-------+------------------+\n",
            "\n"
          ],
          "name": "stdout"
        }
      ]
    },
    {
      "metadata": {
        "id": "N43BMxrBk0eH",
        "colab_type": "code",
        "colab": {}
      },
      "cell_type": "code",
      "source": [
        "import matplotlib.pyplot as plt\n",
        "\n",
        "\n",
        "bins=np.arange(0.0,60.0,5.0)\n",
        "\n",
        "plt.figure(figsize=(10,8))\n",
        "plt.hist(dss.,bins,alpha=0.8,histtype=\"barstacked\")\n"
      ],
      "execution_count": 0,
      "outputs": []
    },
    {
      "metadata": {
        "id": "la25Udk5mx_I",
        "colab_type": "code",
        "colab": {}
      },
      "cell_type": "code",
      "source": [
        "from pyspark.sql import functions as F\n",
        "from pyspark.sql.functions import sum,col,rank\n",
        "from pyspark.sql import Window"
      ],
      "execution_count": 0,
      "outputs": []
    },
    {
      "metadata": {
        "id": "RRbteKCWqC99",
        "colab_type": "code",
        "colab": {}
      },
      "cell_type": "code",
      "source": [
        "window=Window.rowsBetween(Window.unboundedPreceding,Window.unboundedFollowing)\n",
        "tab=dss"
      ],
      "execution_count": 0,
      "outputs": []
    },
    {
      "metadata": {
        "id": "h1BzLGGqqU_D",
        "colab_type": "code",
        "colab": {
          "base_uri": "https://localhost:8080/",
          "height": 168
        },
        "outputId": "03492530-4584-4969-dede-e42c1d97817c"
      },
      "cell_type": "code",
      "source": [
        "dss.dtypes"
      ],
      "execution_count": 43,
      "outputs": [
        {
          "output_type": "execute_result",
          "data": {
            "text/plain": [
              "[('longitude', 'double'),\n",
              " ('latitude', 'double'),\n",
              " ('housing_median_age', 'double'),\n",
              " ('total_rooms', 'double'),\n",
              " ('total_bedrooms', 'double'),\n",
              " ('population', 'double'),\n",
              " ('households', 'double'),\n",
              " ('median_income', 'double'),\n",
              " ('median_house_value', 'double')]"
            ]
          },
          "metadata": {
            "tags": []
          },
          "execution_count": 43
        }
      ]
    }
  ]
}