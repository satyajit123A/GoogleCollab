{
  "nbformat": 4,
  "nbformat_minor": 0,
  "metadata": {
    "colab": {
      "name": "BasicLinearRegressionwithspark.ipynb",
      "version": "0.3.2",
      "provenance": [],
      "toc_visible": true
    },
    "kernelspec": {
      "name": "python3",
      "display_name": "Python 3"
    },
    "accelerator": "TPU"
  },
  "cells": [
    {
      "metadata": {
        "id": "w76PxlfwZZkb",
        "colab_type": "text"
      },
      "cell_type": "markdown",
      "source": [
        "# Create entry points to spark"
      ]
    },
    {
      "metadata": {
        "id": "52CiOLDdZfmH",
        "colab_type": "code",
        "colab": {
          "base_uri": "https://localhost:8080/",
          "height": 50
        },
        "outputId": "89ccc886-69cf-4b98-86df-9de188582ad9"
      },
      "cell_type": "code",
      "source": [
        "!pip3 install pyspark"
      ],
      "execution_count": 1,
      "outputs": [
        {
          "output_type": "stream",
          "text": [
            "Requirement already satisfied: pyspark in /usr/local/lib/python3.6/dist-packages (2.4.1)\n",
            "Requirement already satisfied: py4j==0.10.7 in /usr/local/lib/python3.6/dist-packages (from pyspark) (0.10.7)\n"
          ],
          "name": "stdout"
        }
      ]
    },
    {
      "metadata": {
        "id": "_bGylm_ZZVEM",
        "colab_type": "code",
        "colab": {}
      },
      "cell_type": "code",
      "source": [
        "from pyspark import SparkContext\n",
        "sc = SparkContext(master = 'local')\n",
        "\n",
        "from pyspark.sql import SparkSession\n",
        "spark = SparkSession.builder \\\n",
        "          .appName(\"Python Spark regression\") \\\n",
        "          .config(\"spark.some.config.option\", \"some-value\") \\\n",
        "          .getOrCreate()"
      ],
      "execution_count": 0,
      "outputs": []
    },
    {
      "metadata": {
        "id": "HYV-NFgVfU46",
        "colab_type": "text"
      },
      "cell_type": "markdown",
      "source": [
        "![alt text](https://encrypted-tbn0.gstatic.com/images?q=tbn:ANd9GcTx_zyWVo2dnOxqNQVEExl0EGIwAQIq8a3VbATIWucm5I6GVgzKOg)"
      ]
    },
    {
      "metadata": {
        "id": "_n1ROtaWaBzv",
        "colab_type": "text"
      },
      "cell_type": "markdown",
      "source": [
        "# Linear regression without cross-valiation"
      ]
    },
    {
      "metadata": {
        "id": "9L-W33zjaDfq",
        "colab_type": "code",
        "colab": {
          "base_uri": "https://localhost:8080/",
          "height": 202
        },
        "outputId": "980bf2d9-1d09-4257-e1e8-b502b52e39d2"
      },
      "cell_type": "code",
      "source": [
        "data=spark.read.csv(\"sample_data/california_housing_train.csv\",header=True,inferSchema=True)\n",
        "data.show(5)"
      ],
      "execution_count": 4,
      "outputs": [
        {
          "output_type": "stream",
          "text": [
            "+---------+--------+------------------+-----------+--------------+----------+----------+-------------+------------------+\n",
            "|longitude|latitude|housing_median_age|total_rooms|total_bedrooms|population|households|median_income|median_house_value|\n",
            "+---------+--------+------------------+-----------+--------------+----------+----------+-------------+------------------+\n",
            "|  -114.31|   34.19|              15.0|     5612.0|        1283.0|    1015.0|     472.0|       1.4936|           66900.0|\n",
            "|  -114.47|    34.4|              19.0|     7650.0|        1901.0|    1129.0|     463.0|         1.82|           80100.0|\n",
            "|  -114.56|   33.69|              17.0|      720.0|         174.0|     333.0|     117.0|       1.6509|           85700.0|\n",
            "|  -114.57|   33.64|              14.0|     1501.0|         337.0|     515.0|     226.0|       3.1917|           73400.0|\n",
            "|  -114.57|   33.57|              20.0|     1454.0|         326.0|     624.0|     262.0|        1.925|           65500.0|\n",
            "+---------+--------+------------------+-----------+--------------+----------+----------+-------------+------------------+\n",
            "only showing top 5 rows\n",
            "\n"
          ],
          "name": "stdout"
        }
      ]
    },
    {
      "metadata": {
        "id": "rPGkX1Spasby",
        "colab_type": "text"
      },
      "cell_type": "markdown",
      "source": [
        "# Transform data structure"
      ]
    },
    {
      "metadata": {
        "id": "0I3bxvW_ahQV",
        "colab_type": "code",
        "colab": {}
      },
      "cell_type": "code",
      "source": [
        "from pyspark.ml.linalg import Vectors\n",
        "transformed_data=data.rdd.map(lambda x: [Vectors.dense(x[0:8]),x[-1]]).toDF(['features', 'label'])\n"
      ],
      "execution_count": 0,
      "outputs": []
    },
    {
      "metadata": {
        "id": "S4NcFY07bkyW",
        "colab_type": "code",
        "colab": {
          "base_uri": "https://localhost:8080/",
          "height": 202
        },
        "outputId": "41793417-b882-47b1-9a93-4941e2a1bcab"
      },
      "cell_type": "code",
      "source": [
        "from pyspark.ml.regression import LinearRegression\n",
        "lr=LinearRegression(featuresCol = 'features', labelCol = 'label')\n",
        "\n",
        "\n",
        "lr_model = lr.fit(transformed_data)\n",
        "\n",
        "pred = lr_model.transform(transformed_data)\n",
        "pred.show(5)"
      ],
      "execution_count": 14,
      "outputs": [
        {
          "output_type": "stream",
          "text": [
            "+--------------------+-------+-------------------+\n",
            "|            features|  label|         prediction|\n",
            "+--------------------+-------+-------------------+\n",
            "|[-114.31,34.19,15...|66900.0|  7128.084577110596|\n",
            "|[-114.47,34.4,19....|80100.0|  73675.60147899296|\n",
            "|[-114.56,33.69,17...|85700.0|-31317.285251948982|\n",
            "|[-114.57,33.64,14...|73400.0|  40802.46695013251|\n",
            "|[-114.57,33.57,20...|65500.0|-4058.8060622261837|\n",
            "+--------------------+-------+-------------------+\n",
            "only showing top 5 rows\n",
            "\n"
          ],
          "name": "stdout"
        }
      ]
    },
    {
      "metadata": {
        "id": "A0cUzWxbd5gS",
        "colab_type": "text"
      },
      "cell_type": "markdown",
      "source": [
        "# Module evaluation"
      ]
    },
    {
      "metadata": {
        "id": "Dt16G9Bzd29r",
        "colab_type": "code",
        "colab": {
          "base_uri": "https://localhost:8080/",
          "height": 34
        },
        "outputId": "7a6c6684-485f-4ba4-d4ab-bece739927b6"
      },
      "cell_type": "code",
      "source": [
        "from pyspark.ml.evaluation import RegressionEvaluator \n",
        "evaluator = RegressionEvaluator(predictionCol='prediction', labelCol='label')\n",
        "evaluator.setMetricName('r2').evaluate(pred)"
      ],
      "execution_count": 15,
      "outputs": [
        {
          "output_type": "execute_result",
          "data": {
            "text/plain": [
              "0.6413378529502702"
            ]
          },
          "metadata": {
            "tags": []
          },
          "execution_count": 15
        }
      ]
    },
    {
      "metadata": {
        "id": "WweL3-Mjd_8C",
        "colab_type": "text"
      },
      "cell_type": "markdown",
      "source": [
        "# Linear regression with cross-validation"
      ]
    },
    {
      "metadata": {
        "id": "HVEUXduveCtF",
        "colab_type": "text"
      },
      "cell_type": "markdown",
      "source": [
        "# Training and test datasets"
      ]
    },
    {
      "metadata": {
        "id": "VpbH9xDneA7D",
        "colab_type": "code",
        "colab": {}
      },
      "cell_type": "code",
      "source": [
        "training, test = transformed_data.randomSplit([0.8, 0.2], seed=123)"
      ],
      "execution_count": 0,
      "outputs": []
    },
    {
      "metadata": {
        "id": "tIpkSSzUeKc_",
        "colab_type": "text"
      },
      "cell_type": "markdown",
      "source": [
        "\n",
        "# Build cross-validation model"
      ]
    },
    {
      "metadata": {
        "id": "t6Txo8MyeIpa",
        "colab_type": "code",
        "colab": {}
      },
      "cell_type": "code",
      "source": [
        "##=====build cross valiation model======\n",
        "\n",
        "# estimator\n",
        "lr = LinearRegression(featuresCol = 'features', labelCol = 'label')\n",
        "\n",
        "# parameter grid\n",
        "from pyspark.ml.tuning import ParamGridBuilder\n",
        "param_grid = ParamGridBuilder().\\\n",
        "    addGrid(lr.regParam, [0, 0.5, 1]).\\\n",
        "    addGrid(lr.elasticNetParam, [0, 0.5, 1]).\\\n",
        "    build()\n",
        "    \n",
        "# evaluator\n",
        "evaluator = RegressionEvaluator(predictionCol='prediction', labelCol='label', metricName='r2')\n",
        "\n",
        "# cross-validation model\n",
        "from pyspark.ml.tuning import CrossValidator\n",
        "cv = CrossValidator(estimator=lr, estimatorParamMaps=param_grid, evaluator=evaluator, numFolds=4)"
      ],
      "execution_count": 0,
      "outputs": []
    },
    {
      "metadata": {
        "id": "kYvrx0IJeTpU",
        "colab_type": "text"
      },
      "cell_type": "markdown",
      "source": [
        "  # Fit cross-validation model"
      ]
    },
    {
      "metadata": {
        "id": "3TFYwrfteVBK",
        "colab_type": "code",
        "colab": {}
      },
      "cell_type": "code",
      "source": [
        "cv_model = cv.fit(training)"
      ],
      "execution_count": 0,
      "outputs": []
    },
    {
      "metadata": {
        "id": "BD1mcYUdeW7F",
        "colab_type": "code",
        "colab": {}
      },
      "cell_type": "code",
      "source": [
        "\n",
        "pred_training_cv = cv_model.transform(training)\n",
        "pred_test_cv = cv_model.transform(test)"
      ],
      "execution_count": 0,
      "outputs": []
    },
    {
      "metadata": {
        "id": "xYhSEPEReuE6",
        "colab_type": "text"
      },
      "cell_type": "markdown",
      "source": [
        "# Prediction And Evaluation"
      ]
    },
    {
      "metadata": {
        "id": "DGbouuVfeY18",
        "colab_type": "code",
        "colab": {
          "base_uri": "https://localhost:8080/",
          "height": 34
        },
        "outputId": "9f3f8846-5003-4891-ff78-09d837b4cd8e"
      },
      "cell_type": "code",
      "source": [
        "evaluator.setMetricName('r2').evaluate(pred_training_cv)"
      ],
      "execution_count": 20,
      "outputs": [
        {
          "output_type": "execute_result",
          "data": {
            "text/plain": [
              "0.6431458767463152"
            ]
          },
          "metadata": {
            "tags": []
          },
          "execution_count": 20
        }
      ]
    },
    {
      "metadata": {
        "id": "xd_JeLawebKG",
        "colab_type": "code",
        "colab": {
          "base_uri": "https://localhost:8080/",
          "height": 34
        },
        "outputId": "84fc110a-4566-45bc-8bcf-b8e76646eb1e"
      },
      "cell_type": "code",
      "source": [
        "evaluator.setMetricName('r2').evaluate(pred_test_cv)"
      ],
      "execution_count": 21,
      "outputs": [
        {
          "output_type": "execute_result",
          "data": {
            "text/plain": [
              "0.6337166268003807"
            ]
          },
          "metadata": {
            "tags": []
          },
          "execution_count": 21
        }
      ]
    },
    {
      "metadata": {
        "id": "myfZZOr7eqlT",
        "colab_type": "text"
      },
      "cell_type": "markdown",
      "source": [
        "# Intercept and coefficients"
      ]
    },
    {
      "metadata": {
        "id": "C6Xsn-pmeeI_",
        "colab_type": "code",
        "colab": {
          "base_uri": "https://localhost:8080/",
          "height": 70
        },
        "outputId": "3bc32922-ce6f-45be-d7f4-701dd30736ea"
      },
      "cell_type": "code",
      "source": [
        "print('Intercept: ', cv_model.bestModel.intercept, \"\\n\",\n",
        "     'coefficients: ', cv_model.bestModel.coefficients)"
      ],
      "execution_count": 22,
      "outputs": [
        {
          "output_type": "stream",
          "text": [
            "Intercept:  -3620541.9806647794 \n",
            " coefficients:  [-43106.20772616206,-42803.47173089207,1141.408946492884,-7.1828581615540354,107.40315473871928,-38.63249983670063,51.06386146142264,40381.66864335395]\n"
          ],
          "name": "stdout"
        }
      ]
    },
    {
      "metadata": {
        "id": "IZDAXyuxenHb",
        "colab_type": "text"
      },
      "cell_type": "markdown",
      "source": [
        "# Get parameter values from the best model\n",
        "Parameters can be extracted by calling the java property."
      ]
    },
    {
      "metadata": {
        "id": "TLKykqnNeh7W",
        "colab_type": "code",
        "colab": {
          "base_uri": "https://localhost:8080/",
          "height": 50
        },
        "outputId": "4c585aef-54c5-4f4d-918c-6a455917b082"
      },
      "cell_type": "code",
      "source": [
        "print('best regParam: ' + str(cv_model.bestModel._java_obj.getRegParam()) + \"\\n\" +\n",
        "     'best ElasticNetParam:' + str(cv_model.bestModel._java_obj.getElasticNetParam()))"
      ],
      "execution_count": 23,
      "outputs": [
        {
          "output_type": "stream",
          "text": [
            "best regParam: 1.0\n",
            "best ElasticNetParam:1.0\n"
          ],
          "name": "stdout"
        }
      ]
    }
  ]
}